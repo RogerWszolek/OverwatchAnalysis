{
 "cells": [
  {
   "cell_type": "code",
   "execution_count": null,
   "metadata": {
    "ExecuteTime": {
     "end_time": "2021-06-22T16:18:00.786391Z",
     "start_time": "2021-06-22T16:17:59.238148Z"
    }
   },
   "outputs": [],
   "source": [
    "import pandas as pd\n",
    "import matplotlib.pyplot as plt\n",
    "import seaborn as sns\n",
    "import numpy as np\n",
    "plt.style.use('seaborn')\n",
    "from sklearn import model_selection, preprocessing, feature_selection, ensemble, linear_model, metrics, decomposition"
   ]
  },
  {
   "cell_type": "markdown",
   "metadata": {},
   "source": [
    "# Begin importing data"
   ]
  },
  {
   "cell_type": "code",
   "execution_count": null,
   "metadata": {
    "ExecuteTime": {
     "end_time": "2021-06-22T16:18:20.731626Z",
     "start_time": "2021-06-22T16:18:00.789204Z"
    }
   },
   "outputs": [],
   "source": [
    "files = [\"stage_2\", \"stage_3\", \"stage_4\", \"playoffs\"]\n",
    "\n",
    "df = pd.read_csv(\"data/phs_2018_stage_1.csv\")\n",
    "for f in files:\n",
    "    df = df.append(pd.read_csv(\"data/phs_2018_\" + f + \".csv\"))\n",
    "\n",
    "files.insert(0, \"stage_1\")\n",
    "for f in files:\n",
    "    df = df.append(pd.read_csv(\"data/phs_2019_\" + f + \".csv\").rename(columns={\"pelstart_time\":'start_time'}))\n",
    "df = df.append(pd.read_csv('data/phs_2020_1.csv').rename(columns={\"hero_name\":'hero',\"team_name\":\"team\",\"player_name\":\"player\",\"esports_match_id\":\"match_id\",\"tournament_title\":\"stage\"}))\n",
    "df = df.append(pd.read_csv('data/phs_2020_2.csv').rename(columns={\"hero_name\":'hero',\"team_name\":\"team\",\"player_name\":\"player\",\"esports_match_id\":\"match_id\",\"tournament_title\":\"stage\"}))\n",
    "df = df.append(pd.read_csv('data/phs_2021_1.csv').rename(columns={\"hero_name\":'hero',\"team_name\":\"team\",\"player_name\":\"player\",\"esports_match_id\":\"match_id\",\"tournament_title\":\"stage\"}))"
   ]
  },
  {
   "cell_type": "code",
   "execution_count": null,
   "metadata": {
    "ExecuteTime": {
     "end_time": "2021-06-22T16:18:20.852786Z",
     "start_time": "2021-06-22T16:18:20.735102Z"
    }
   },
   "outputs": [],
   "source": [
    "map_df = pd.read_csv(\"data/match_map_stats.csv\", index_col=\"match_id\")"
   ]
  },
  {
   "cell_type": "markdown",
   "metadata": {},
   "source": [
    "# Create some boolean masks"
   ]
  },
  {
   "cell_type": "code",
   "execution_count": null,
   "metadata": {
    "ExecuteTime": {
     "end_time": "2021-06-22T16:18:25.698430Z",
     "start_time": "2021-06-22T16:18:20.855428Z"
    }
   },
   "outputs": [],
   "source": [
    "widow = df[\"hero\"] == \"Widowmaker\"\n",
    "mccree = df[\"hero\"] == \"McCree\"\n",
    "ashe = df[\"hero\"] == \"Ashe\"\n",
    "hanzo = df[\"hero\"] == \"Hanzo\"\n",
    "allHeros = df[\"hero\"] == \"All Heroes\"\n",
    "damageDone = df[\"stat_name\"] == \"All Damage Done\"\n",
    "timePlayed = df[\"stat_name\"] == \"Time Played\"\n",
    "weapAcc = df[\"stat_name\"] == \"Weapon Accuracy\"\n",
    "kills = df[\"stat_name\"] == \"Eliminations\""
   ]
  },
  {
   "cell_type": "markdown",
   "metadata": {},
   "source": [
    "# Create win dataframe\n"
   ]
  },
  {
   "cell_type": "code",
   "execution_count": null,
   "metadata": {
    "ExecuteTime": {
     "end_time": "2021-06-22T16:18:27.638602Z",
     "start_time": "2021-06-22T16:18:25.700653Z"
    }
   },
   "outputs": [],
   "source": [
    "match_win = map_df[['match_winner']]\n",
    "match_win = match_win[~match_win.index.duplicated(keep='first')]\n",
    "df_match = df.set_index('match_id')\n",
    "df_match_player = df[allHeros & timePlayed].set_index('match_id')\n",
    "df_win = pd.merge(df_match_player, match_win, left_index=True, right_index=True)\n",
    "df_complete = pd.merge(df_match, match_win, left_index=True, right_index=True)   "
   ]
  },
  {
   "cell_type": "code",
   "execution_count": null,
   "metadata": {
    "ExecuteTime": {
     "end_time": "2021-06-22T16:19:15.103707Z",
     "start_time": "2021-06-22T16:18:27.641023Z"
    }
   },
   "outputs": [],
   "source": [
    "def win_lose(x,y):\n",
    "    if (x == y):\n",
    "        return 'win'\n",
    "    else:\n",
    "        return 'lose'\n",
    "        \n",
    "df_win[\"match_result\"] = df_win[[\"team\",\"match_winner\"]].apply(lambda x : win_lose(*x), axis=1)\n",
    "df_complete[\"match_result\"] = df_complete[[\"team\",\"match_winner\"]].apply(lambda x : win_lose(*x), axis=1)"
   ]
  },
  {
   "cell_type": "code",
   "execution_count": null,
   "metadata": {
    "ExecuteTime": {
     "end_time": "2021-06-21T18:53:34.136242Z",
     "start_time": "2021-06-21T18:53:34.099642Z"
    }
   },
   "outputs": [],
   "source": []
  },
  {
   "cell_type": "code",
   "execution_count": null,
   "metadata": {
    "ExecuteTime": {
     "end_time": "2021-06-21T18:23:58.835159Z",
     "start_time": "2021-06-21T18:23:58.781237Z"
    }
   },
   "outputs": [],
   "source": [
    "df_win_subs = df_win\n",
    "df_win_subs.reset_index(inplace=True)\n",
    "df_win_subs = df_win_subs[['player','match_result','match_id']].drop_duplicates(keep=False)\n",
    "df_subs_final = df_win_subs.set_index('player').drop_duplicates(keep='first')\n",
    "df_subs_final['match_result'].value_counts()"
   ]
  },
  {
   "cell_type": "code",
   "execution_count": null,
   "metadata": {
    "ExecuteTime": {
     "end_time": "2021-06-21T18:05:17.271350Z",
     "start_time": "2021-06-21T18:05:12.558472Z"
    }
   },
   "outputs": [],
   "source": [
    "def heroType(x):\n",
    "    if (x == \"D.Va\")|(x == \"Winston\")| (x == \"Zarya\")| (x == \"Reinhardt\")| (x == \"Wrecking Ball\")|( x == \"Orisa\")| (x ==\"Roadhog\")|(x==\"Sigma\"):\n",
    "        return \"Tank\"\n",
    "    elif (x==\"Zenyatta\")| (x==\"Lúcio\")| (x == \"Mercy\")| (x == \"Ana\")| (x == \"Brigitte\")|(x == \"Moira\")|(x == \"Baptiste\"):\n",
    "        return \"Support\"\n",
    "    elif (x == \"Tracer\")| (x == \"Widowmaker\")| (x == \"Sombra\")| (x == \"Genji\")| (x == \"Pharah\")| (x == \"Hanzo\")|(x == \"Junkrat\")|(x == \"Mei\")|(x == \"McCree\")|(x == \"Soldier: 76\")|(x == \"Doomfist\")|(x == \"Reaper\")|(x == \"Bastion\")|(x == \"Symmetra\")|(x == \"Torbjörn\")|(x == \"Ashe\")|(x == \"Echo\"):\n",
    "        return \"Dps\"\n",
    "    else:\n",
    "        return \"none\"\n",
    "df[\"hero_type\"] = df[\"hero\"].apply(heroType)\n",
    "##df_type = df[df[\"hero_type\"] != \"none\"]"
   ]
  },
  {
   "cell_type": "markdown",
   "metadata": {},
   "source": [
    "# Compute highest DPS hero"
   ]
  },
  {
   "cell_type": "code",
   "execution_count": null,
   "metadata": {
    "ExecuteTime": {
     "end_time": "2021-06-22T16:19:15.182709Z",
     "start_time": "2021-06-22T16:19:15.106506Z"
    }
   },
   "outputs": [],
   "source": [
    "herodps = []\n",
    "hero = [widow, mccree, ashe, hanzo]\n",
    "for n in hero:\n",
    "    herodps.append(\n",
    "        (df[damageDone & n][\"stat_amount\"].sum())\n",
    "        / (df[timePlayed & n][\"stat_amount\"].sum())\n",
    "    )\n",
    "herodps"
   ]
  },
  {
   "cell_type": "code",
   "execution_count": null,
   "metadata": {
    "ExecuteTime": {
     "end_time": "2021-06-22T16:19:19.509370Z",
     "start_time": "2021-06-22T16:19:15.189381Z"
    }
   },
   "outputs": [],
   "source": [
    "ashe_c = df_complete[\"hero\"] == \"Ashe\"\n",
    "damageDone_c = df_complete[\"stat_name\"] == \"All Damage Done\"\n",
    "timePlayed_c = df_complete[\"stat_name\"] == \"Time Played\"\n",
    "shots_c = df_complete[\"stat_name\"] == \"Shots Fired\"\n",
    "damageTaken_c = df_complete[\"stat_name\"] == \"Damage Taken\"\n",
    "dynaDmg_c = df_complete[\"stat_name\"] == \"Damage - Dynamite\"\n",
    "ults_c =  df_complete[\"stat_name\"] == \"Ultimates Used\"\n",
    "objTime_c = df_complete[\"stat_name\"] == \"Objective Time\""
   ]
  },
  {
   "cell_type": "code",
   "execution_count": null,
   "metadata": {
    "ExecuteTime": {
     "end_time": "2021-06-22T16:19:19.520079Z",
     "start_time": "2021-06-22T16:19:19.513166Z"
    }
   },
   "outputs": [],
   "source": [
    "\"Damage Taken\",\"Shots Fired\",\"Damage - Dynamite\",\"Ultimates Used\",\"Objective Time\""
   ]
  },
  {
   "cell_type": "code",
   "execution_count": null,
   "metadata": {
    "ExecuteTime": {
     "end_time": "2021-06-22T16:19:20.352504Z",
     "start_time": "2021-06-22T16:19:19.523732Z"
    }
   },
   "outputs": [],
   "source": [
    "df_ml_1 = pd.pivot_table(df_complete[ashe_c &(damageDone_c|timePlayed_c|shots_c|damageTaken_c|dynaDmg_c|ults_c|objTime_c)].reset_index(),values=('stat_amount'),\n",
    "                    index=['match_id','player'],columns=['stat_name'], aggfunc=np.sum)\n",
    "df_ml_2 = pd.pivot_table(df_complete[ashe_c &(damageDone_c|timePlayed_c|shots_c|damageTaken_c|dynaDmg_c|ults_c|objTime_c)].reset_index(),values='match_result',\n",
    "                    index=['match_id','player'],columns=[], aggfunc='first')\n",
    "df_ml = pd.concat([df_ml_1, df_ml_2], axis=1)\n",
    "df_ml[\"Damage per Second\"] = df_ml.apply(\n",
    "        lambda x: x[\"All Damage Done\"] / x[\"Time Played\"], axis=\"columns\")\n",
    "df_ml[\"Shots per Second\"] = df_ml.apply(\n",
    "        lambda x: x[\"Shots Fired\"] / (x[\"Time Played\"]), axis=\"columns\")\n",
    "df_ml[\"Damage Recieved per Second\"] = df_ml.apply(\n",
    "        lambda x: x[\"Damage Taken\"] / (x[\"Time Played\"]), axis=\"columns\")\n",
    "df_ml[\"Ultimates per Second\"] = df_ml.apply(\n",
    "        lambda x: x[\"Ultimates Used\"] / (x[\"Time Played\"]), axis=\"columns\")\n",
    "df_ml[\"Dynamite Damage per Second\"] = df_ml.apply(\n",
    "        lambda x: x[\"Damage - Dynamite\"] / (x[\"Time Played\"]), axis=\"columns\")\n",
    "df_ml[\"Objective Time per Second\"] = df_ml.apply(\n",
    "        lambda x: x[\"Objective Time\"] / (x[\"Time Played\"]), axis=\"columns\")\n",
    "df_ml = df_ml[(df_ml['Time Played'] >= 60)&(df_ml['All Damage Done'] >= 0.1)]\n",
    "df_ml = df_ml.drop(['All Damage Done', 'Time Played',\"Damage Taken\",\"Shots Fired\",\"Damage - Dynamite\",\"Ultimates Used\",\"Objective Time\"], axis=1).fillna(0)"
   ]
  },
  {
   "cell_type": "code",
   "execution_count": null,
   "metadata": {
    "ExecuteTime": {
     "end_time": "2021-06-22T16:19:20.394440Z",
     "start_time": "2021-06-22T16:19:20.355522Z"
    }
   },
   "outputs": [],
   "source": [
    "def win_to_number(x):\n",
    "    if x == \"win\":\n",
    "        return 1\n",
    "    elif x==\"lose\":\n",
    "        return 0\n",
    "    else:\n",
    "        return \"none\"\n",
    "df_ml[\"match_result\"] = df_ml[\"match_result\"].apply(win_to_number)\n",
    "df_ml"
   ]
  },
  {
   "cell_type": "code",
   "execution_count": null,
   "metadata": {
    "ExecuteTime": {
     "end_time": "2021-06-22T16:19:20.412969Z",
     "start_time": "2021-06-22T16:19:20.398094Z"
    }
   },
   "outputs": [],
   "source": [
    "scaler = preprocessing.MinMaxScaler(feature_range=(0,1))\n",
    "X = scaler.fit_transform(df_ml.drop(\"match_result\", axis=1))\n",
    "df_scaled= pd.DataFrame(X, columns=df_ml.drop(\"match_result\", axis=1).columns, index=df_ml.index)\n",
    "df_scaled[\"match_result\"] = df_ml[\"match_result\"]"
   ]
  },
  {
   "cell_type": "code",
   "execution_count": null,
   "metadata": {
    "ExecuteTime": {
     "end_time": "2021-06-22T16:19:21.327868Z",
     "start_time": "2021-06-22T16:19:20.416755Z"
    }
   },
   "outputs": [],
   "source": [
    "corr_matrix = df_scaled.copy()\n",
    "for col in corr_matrix.columns:\n",
    "    if corr_matrix[col].dtype == \"O\":\n",
    "         corr_matrix[col] = corr_matrix[col].factorize(sort=True)[0]\n",
    "corr_matrix = corr_matrix.corr(method=\"pearson\")\n",
    "sns.heatmap(corr_matrix, vmin=-1., vmax=1., annot=True, fmt='.2f', cmap=\"YlGnBu\", cbar=True, linewidths=0.5)\n",
    "plt.title(\"pearson correlation\")"
   ]
  },
  {
   "cell_type": "code",
   "execution_count": null,
   "metadata": {
    "ExecuteTime": {
     "end_time": "2021-06-22T16:25:26.007880Z",
     "start_time": "2021-06-22T16:25:25.993980Z"
    }
   },
   "outputs": [],
   "source": [
    "df_ml_train = df_scaled.sample(frac=0.75)\n",
    "df_ml_test = df_scaled.append(df_ml_train)\n",
    "df_ml_test = df_ml_test.drop_duplicates(keep=False)"
   ]
  },
  {
   "cell_type": "code",
   "execution_count": 126,
   "metadata": {
    "ExecuteTime": {
     "end_time": "2021-06-22T19:07:05.242442Z",
     "start_time": "2021-06-22T19:07:05.232454Z"
    }
   },
   "outputs": [],
   "source": [
    "x_train = df_ml_train.drop(\"match_result\", axis=1)\n",
    "y_train = df_ml_train['match_result']\n",
    "x_test = df_ml_test.drop(\"match_result\", axis=1)\n",
    "y_test = df_ml_test['match_result']"
   ]
  },
  {
   "cell_type": "code",
   "execution_count": null,
   "metadata": {
    "ExecuteTime": {
     "end_time": "2021-06-22T16:43:59.551717Z",
     "start_time": "2021-06-22T16:43:59.523007Z"
    }
   },
   "outputs": [],
   "source": [
    "df_ml_train"
   ]
  },
  {
   "cell_type": "code",
   "execution_count": 117,
   "metadata": {
    "ExecuteTime": {
     "end_time": "2021-06-22T18:14:32.752060Z",
     "start_time": "2021-06-22T18:14:32.743758Z"
    }
   },
   "outputs": [],
   "source": [
    "model = ensemble.GradientBoostingClassifier()\n",
    "param_dic = {'learning_rate':[0.15,0.1,0.05,0.01,0.005,0.001],\n",
    "'n_estimators':[100,250,500,750,1000,1250,1500,1750],\n",
    "'max_depth':[2,3,4,5,6,7],\n",
    "'min_samples_split':[2,4,6,8,10,20,40,60,100],\n",
    "'min_samples_leaf':[1,3,5],\n",
    "'max_features':[2,3,4],\n",
    "'subsample':[0.7,0.75,0.8,0.85,0.9,0.95,1]} "
   ]
  },
  {
   "cell_type": "code",
   "execution_count": null,
   "metadata": {
    "ExecuteTime": {
     "end_time": "2021-06-22T16:43:04.815793Z",
     "start_time": "2021-06-22T16:43:04.810891Z"
    }
   },
   "outputs": [],
   "source": [
    "\n",
    "\n"
   ]
  },
  {
   "cell_type": "code",
   "execution_count": 119,
   "metadata": {
    "ExecuteTime": {
     "end_time": "2021-06-22T18:16:23.851449Z",
     "start_time": "2021-06-22T18:16:23.844730Z"
    }
   },
   "outputs": [
    {
     "name": "stdout",
     "output_type": "stream",
     "text": [
      "Best Model parameters: {'subsample': 0.7, 'n_estimators': 1500, 'min_samples_split': 10, 'min_samples_leaf': 3, 'max_features': 5, 'max_depth': 5, 'learning_rate': 0.05}\n",
      "Best Model mean accuracy: 0.6121951219512195\n"
     ]
    }
   ],
   "source": [
    "print(\"Best Model parameters:\", random_search.best_params_)\n",
    "print(\"Best Model mean accuracy:\", random_search.best_score_)\n",
    "model = random_search.best_estimator_"
   ]
  },
  {
   "cell_type": "code",
   "execution_count": 120,
   "metadata": {
    "ExecuteTime": {
     "end_time": "2021-06-22T18:25:42.128448Z",
     "start_time": "2021-06-22T18:16:44.936637Z"
    }
   },
   "outputs": [
    {
     "name": "stdout",
     "output_type": "stream",
     "text": [
      "Best Model parameters: {'subsample': 0.75, 'n_estimators': 1250, 'min_samples_split': 6, 'min_samples_leaf': 5, 'max_features': 4, 'max_depth': 3, 'learning_rate': 0.005}\n",
      "Best Model mean accuracy: 0.624390243902439\n"
     ]
    }
   ],
   "source": [
    "\n",
    "random_search = model_selection.RandomizedSearchCV(model, \n",
    "       param_distributions=param_dic, n_iter=100, \n",
    "       scoring=\"accuracy\").fit(x_train, y_train)\n",
    "print(\"Best Model parameters:\", random_search.best_params_)\n",
    "print(\"Best Model mean accuracy:\", random_search.best_score_)\n",
    "model = random_search.best_estimator_\n"
   ]
  },
  {
   "cell_type": "code",
   "execution_count": 123,
   "metadata": {
    "ExecuteTime": {
     "end_time": "2021-06-22T19:05:49.870770Z",
     "start_time": "2021-06-22T19:05:48.518388Z"
    }
   },
   "outputs": [],
   "source": [
    "model.fit(x_train, y_train)\n",
    "## test\n",
    "predicted_prob = model.predict_proba(x_test)[:,1]\n",
    "predicted = model.predict(x_test)"
   ]
  },
  {
   "cell_type": "code",
   "execution_count": 127,
   "metadata": {
    "ExecuteTime": {
     "end_time": "2021-06-22T19:07:11.564071Z",
     "start_time": "2021-06-22T19:07:11.541929Z"
    }
   },
   "outputs": [
    {
     "name": "stdout",
     "output_type": "stream",
     "text": [
      "Accuracy (overall correct predictions): 0.56\n",
      "Auc: 0.59\n"
     ]
    }
   ],
   "source": [
    "accuracy = metrics.accuracy_score(y_test, predicted)\n",
    "auc = metrics.roc_auc_score(y_test, predicted_prob)\n",
    "print(\"Accuracy (overall correct predictions):\",  round(accuracy,2))\n",
    "print(\"Auc:\", round(auc,2))\n"
   ]
  },
  {
   "cell_type": "code",
   "execution_count": null,
   "metadata": {
    "ExecuteTime": {
     "end_time": "2021-06-22T16:25:36.771200Z",
     "start_time": "2021-06-22T16:25:36.704643Z"
    },
    "code_folding": []
   },
   "outputs": [],
   "source": [
    "df_hitscan = pd.pivot_table(df[(widow | mccree | ashe | hanzo)&(damageDone|timePlayed)],values='stat_amount',\n",
    "                    index=['map_name', 'hero'],columns=['stat_name'], aggfunc=np.sum)\n",
    "df_hitscan[\"Damage per Second\"] = df_hitscan.apply(\n",
    "        lambda x: x[\"All Damage Done\"] / x[\"Time Played\"], axis=\"columns\")\n",
    "df_hitscan.to_csv(r'data/hitscan_data.csv')"
   ]
  },
  {
   "cell_type": "code",
   "execution_count": null,
   "metadata": {
    "ExecuteTime": {
     "end_time": "2021-06-10T17:23:28.548660Z",
     "start_time": "2021-06-10T17:23:27.838720Z"
    }
   },
   "outputs": [],
   "source": [
    "sns.set_style(\"dark\")\n",
    "sns.barplot(x=\"Damage per Second\", y=\"map_name\", hue=\"hero\", data=df_hitscan.reset_index(), orient=\"h\").set(ylabel='Map')\n",
    "plt.legend(title=\"Hero:\",bbox_to_anchor=(1.05, 1), loc=2, borderaxespad=0.)"
   ]
  },
  {
   "cell_type": "code",
   "execution_count": null,
   "metadata": {
    "ExecuteTime": {
     "end_time": "2021-06-11T16:46:01.194605Z",
     "start_time": "2021-06-11T16:46:00.146750Z"
    }
   },
   "outputs": [],
   "source": [
    "support = df[\"hero_type\"] == \"Support\"\n",
    "heals = df[\"stat_name\"] == \"Healing Done\""
   ]
  },
  {
   "cell_type": "code",
   "execution_count": null,
   "metadata": {
    "ExecuteTime": {
     "end_time": "2021-06-11T16:48:06.648675Z",
     "start_time": "2021-06-11T16:48:06.554968Z"
    }
   },
   "outputs": [],
   "source": [
    "df_heals = pd.pivot_table(df[support&(heals|timePlayed)],values='stat_amount',\n",
    "                    index=['map_name', 'hero'],columns=['stat_name'], aggfunc=np.sum)\n",
    "df_heals[\"Healing per Second\"] = df_heals.apply(\n",
    "        lambda x: x[\"Healing Done\"] / x[\"Time Played\"], axis=\"columns\")\n",
    "df_heals.to_csv(r'data/heals_data.csv')"
   ]
  },
  {
   "cell_type": "code",
   "execution_count": null,
   "metadata": {
    "ExecuteTime": {
     "end_time": "2021-06-11T17:30:03.799269Z",
     "start_time": "2021-06-11T17:30:02.637303Z"
    }
   },
   "outputs": [],
   "source": [
    "(100.7, 30.27)\n",
    "plt.subplots(figsize=a4_dims)\n",
    "sns.set_style(\"dark\")\n",
    "sns.barplot(x=\"Healing per Second\", y=\"map_name\", hue=\"hero\", data=df_heals.reset_index(), orient=\"h\").set(ylabel='Map')\n",
    "plt.legend(title=\"Hero:\",bbox_to_anchor=(1.05, 1), loc=2, borderaxespad=0.)"
   ]
  },
  {
   "cell_type": "markdown",
   "metadata": {},
   "source": [
    "Ashe has greatest dps\n",
    "\n"
   ]
  },
  {
   "cell_type": "markdown",
   "metadata": {},
   "source": [
    " \n",
    "\n",
    "\n"
   ]
  },
  {
   "cell_type": "markdown",
   "metadata": {},
   "source": [
    "\n"
   ]
  },
  {
   "cell_type": "code",
   "execution_count": null,
   "metadata": {
    "ExecuteTime": {
     "end_time": "2021-06-09T17:53:29.401480Z",
     "start_time": "2021-06-09T17:53:23.182701Z"
    }
   },
   "outputs": [],
   "source": [
    "def heroType(x):\n",
    "    if (x == \"D.Va\")|(x == \"Winston\")| (x == \"Zarya\")| (x == \"Reinhardt\")| (x == \"Wrecking Ball\")|( x == \"Orisa\")| (x ==\"Roadhog\")|(x==\"Sigma\"):\n",
    "        return \"Tank\"\n",
    "    elif (x==\"Zenyatta\")| (x==\"Lúcio\")| (x == \"Mercy\")| (x == \"Ana\")| (x == \"Brigitte\")|(x == \"Moira\")|(x == \"Baptiste\"):\n",
    "        return \"Support\"\n",
    "    elif (x == \"Tracer\")| (x == \"Widowmaker\")| (x == \"Sombra\")| (x == \"Genji\")| (x == \"Pharah\")| (x == \"Hanzo\")|(x == \"Junkrat\")|(x == \"Mei\")|(x == \"McCree\")|(x == \"Soldier: 76\")|(x == \"Doomfist\")|(x == \"Reaper\")|(x == \"Bastion\")|(x == \"Symmetra\")|(x == \"Torbjörn\")|(x == \"Ashe\")|(x == \"Echo\"):\n",
    "        return \"Dps\"\n",
    "    else:\n",
    "        return \"none\"\n",
    "df[\"hero_type\"] = df[\"hero\"].apply(heroType)\n",
    "df_type = df[df[\"hero_type\"] != \"none\"]"
   ]
  },
  {
   "cell_type": "code",
   "execution_count": null,
   "metadata": {
    "ExecuteTime": {
     "end_time": "2021-06-03T18:31:29.331482Z",
     "start_time": "2021-06-03T18:31:29.034833Z"
    }
   },
   "outputs": [],
   "source": [
    "sr_kills = df[kills][\"stat_amount\"]\n",
    "sr_kills.name = \"kills\"\n",
    "sr_wpacc = df[weapAcc][\"stat_amount\"]\n",
    "sr_wpacc.name = \"weapon_acc\"\n",
    "sr_type = df_type[\"hero_type\"]\n",
    "sr_type.name = \"Hero Type\"\n",
    "sr_dmg = df[damageDone][\"stat_amount\"]\n",
    "sr_dmg.name = \"Damage Done\""
   ]
  },
  {
   "cell_type": "code",
   "execution_count": null,
   "metadata": {
    "ExecuteTime": {
     "end_time": "2021-06-03T18:31:31.178482Z",
     "start_time": "2021-06-03T18:31:29.333733Z"
    }
   },
   "outputs": [],
   "source": [
    "df_kill_wpacc = pd.merge(sr_kills, sr_wpacc, left_index=True, right_index=True)\n",
    "df_type_kill_wpacc = pd.merge(df_kill_wpacc, sr_type, left_index=True, right_index=True)\n",
    "df_dmg_wpacc = pd.merge(sr_dmg, sr_wpacc, left_index=True, right_index=True)\n",
    "df_type_dmg_wpacc = pd.merge(df_dmg_wpacc, sr_type, left_index=True, right_index=True)\n",
    "df_dmg_kill = pd.merge(sr_dmg, sr_kills, left_index=True, right_index=True)\n",
    "df_type_dmg_kill = pd.merge(df_dmg_kill, sr_type, left_index=True, right_index=True)"
   ]
  },
  {
   "cell_type": "code",
   "execution_count": null,
   "metadata": {
    "ExecuteTime": {
     "end_time": "2021-06-03T18:31:34.472962Z",
     "start_time": "2021-06-03T18:31:31.183970Z"
    }
   },
   "outputs": [],
   "source": [
    "sns.regplot(x=\"kills\", y=\"weapon_acc\", data=df_kill_wpacc, line_kws={\"color\": \"C1\"})"
   ]
  },
  {
   "cell_type": "code",
   "execution_count": null,
   "metadata": {
    "ExecuteTime": {
     "end_time": "2021-06-03T18:31:49.939762Z",
     "start_time": "2021-06-03T18:31:34.477080Z"
    }
   },
   "outputs": [],
   "source": [
    "sns.lmplot( data=df_type_dmg_wpacc,\n",
    "    x=\"Damage Done\", y=\"weapon_acc\", hue=\"Hero Type\",\n",
    "    height=5)"
   ]
  },
  {
   "cell_type": "code",
   "execution_count": null,
   "metadata": {
    "ExecuteTime": {
     "end_time": "2021-06-03T18:32:03.885284Z",
     "start_time": "2021-06-03T18:31:49.943802Z"
    }
   },
   "outputs": [],
   "source": [
    "sns.lmplot( data=df_type_kill_wpacc,\n",
    "    x=\"kills\", y=\"weapon_acc\", hue=\"Hero Type\",\n",
    "    height=5)"
   ]
  },
  {
   "cell_type": "code",
   "execution_count": null,
   "metadata": {
    "ExecuteTime": {
     "end_time": "2021-06-03T18:32:20.316335Z",
     "start_time": "2021-06-03T18:32:03.888840Z"
    }
   },
   "outputs": [],
   "source": [
    "sns.lmplot( data=df_type_dmg_kill,\n",
    "    x=\"Damage Done\", y=\"kills\", hue=\"Hero Type\",\n",
    "    height=5)"
   ]
  },
  {
   "cell_type": "markdown",
   "metadata": {},
   "source": [
    "No difference in correlation between kills, elims, and weapon accuracy between hero types"
   ]
  },
  {
   "cell_type": "markdown",
   "metadata": {},
   "source": [
    " "
   ]
  },
  {
   "cell_type": "markdown",
   "metadata": {},
   "source": [
    " "
   ]
  },
  {
   "cell_type": "code",
   "execution_count": null,
   "metadata": {
    "ExecuteTime": {
     "end_time": "2021-06-03T18:34:15.566213Z",
     "start_time": "2021-06-03T18:34:15.546558Z"
    }
   },
   "outputs": [],
   "source": [
    "asheStats = df[ashe]"
   ]
  },
  {
   "cell_type": "code",
   "execution_count": null,
   "metadata": {
    "ExecuteTime": {
     "end_time": "2021-06-10T14:29:45.547470Z",
     "start_time": "2021-06-10T14:29:43.395510Z"
    }
   },
   "outputs": [],
   "source": [
    "_prim = df[\"stat_name\"] == \"Damage - Weapon\"\n",
    "_sec = df[\"stat_name\"] == \"Damage - Weapon Scoped\"\n",
    "_time = df[\"stat_name\"] == \"Time Played\"\n",
    "_dmg = df[\"stat_name\"] == \"All Damage Done\"\n",
    "df_ashe_stats = df[(_prim | _sec | _time | _dmg) & ashe]#[\"stat_amount\"]\n",
    "# prim_dmg = df[prim]['stat_amount'].astype(float)\n",
    "# prim_dmg.name = 'Primary Damage'\n",
    "# sec_dmg = asheStats[sec]['stat_amount'].astype(float)\n",
    "# sec_dmg.name = 'Secondary Damage'\n",
    "# test = pd.merge(prim_dmg,sec_dmg, left_index=True, right_index=True)\n",
    "# test\n",
    "#Cant use asheStats?\n",
    "#pd.pivot_table(df_ashe_stats, index=\"player\", columns=\"stat_name\", values=\"stat_amount\")\n",
    "_idx_cols = df_ashe_stats.columns.drop([\"stat_name\", \"stat_amount\"])\n",
    "_cols = \"stat_name\"\n",
    "_values = \"stat_amount\"\n",
    "df_ashe_stats = pd.pivot(df_ashe_stats, index=_idx_cols, columns=_cols, values=_values).reset_index()"
   ]
  },
  {
   "cell_type": "code",
   "execution_count": null,
   "metadata": {
    "ExecuteTime": {
     "end_time": "2021-06-10T14:31:33.523232Z",
     "start_time": "2021-06-10T14:31:33.514769Z"
    }
   },
   "outputs": [],
   "source": [
    "_cols_to_fill = [\"All Damage Done\", \"Damage - Weapon\", \"Damage - Weapon Scoped\"]\n",
    "df_ashe_stats[_cols_to_fill] = df_ashe_stats[_cols_to_fill].fillna(0)"
   ]
  },
  {
   "cell_type": "code",
   "execution_count": null,
   "metadata": {
    "ExecuteTime": {
     "end_time": "2021-06-03T18:34:18.053300Z",
     "start_time": "2021-06-03T18:34:17.956729Z"
    }
   },
   "outputs": [],
   "source": [
    "# compute normalized damage amounts (normalized to time)\n",
    "for i in _cols_to_fill:\n",
    "    df_ashe_stats[i + \"_normalized\"] = df_ashe_stats.apply(\n",
    "        lambda x: x[i] / x[\"Time Played\"], axis=\"columns\"\n",
    "    )"
   ]
  },
  {
   "cell_type": "code",
   "execution_count": null,
   "metadata": {
    "ExecuteTime": {
     "end_time": "2021-06-03T18:34:18.660443Z",
     "start_time": "2021-06-03T18:34:18.056530Z"
    }
   },
   "outputs": [],
   "source": [
    "# set plots\n",
    "sns.histplot(df_ashe_stats, x=\"All Damage Done_normalized\")\n",
    "plt.title(\"Normalized Damage of Ashe\")\n",
    "\n",
    "plt.figure()\n",
    "sns.histplot(df_ashe_stats, x=\"Damage - Weapon_normalized\", label=\"Weapon Unscoped\")\n",
    "sns.histplot(df_ashe_stats, x=\"Damage - Weapon Scoped_normalized\", color=\"C1\", label=\"Weapon Scoped\")\n",
    "plt.legend()"
   ]
  },
  {
   "cell_type": "code",
   "execution_count": null,
   "metadata": {
    "ExecuteTime": {
     "end_time": "2021-06-03T18:34:18.667479Z",
     "start_time": "2021-06-03T18:34:18.663556Z"
    },
    "code_folding": []
   },
   "outputs": [],
   "source": [
    "#asheSecondary = (asheStats['stat_name'] == 'Secondary Fire Accuracy')\n",
    "#for i in range(52660):\n",
    "   # if (asheStats['stat_name'].iloc[i] == 'Secondary Fire Accuracy'):\n",
    "       # asheStats['stat_name'].iloc[i] = \"Scoped Accuracy\"\n",
    "        #shows an error but works for some reason\n",
    "        #Also I have no idea why I even made this in the first place\n"
   ]
  },
  {
   "cell_type": "markdown",
   "metadata": {
    "ExecuteTime": {
     "end_time": "2021-06-01T18:15:14.201196Z",
     "start_time": "2021-06-01T18:15:14.193672Z"
    }
   },
   "source": [
    "This is a work in progress"
   ]
  },
  {
   "cell_type": "markdown",
   "metadata": {
    "ExecuteTime": {
     "end_time": "2021-06-01T18:09:23.420263Z",
     "start_time": "2021-06-01T18:09:23.319106Z"
    }
   },
   "source": [
    " "
   ]
  },
  {
   "cell_type": "markdown",
   "metadata": {
    "ExecuteTime": {
     "end_time": "2021-06-01T18:09:30.127461Z",
     "start_time": "2021-06-01T18:09:30.109426Z"
    }
   },
   "source": [
    " "
   ]
  }
 ],
 "metadata": {
  "kernelspec": {
   "display_name": "Python 3",
   "language": "python",
   "name": "python3"
  },
  "language_info": {
   "codemirror_mode": {
    "name": "ipython",
    "version": 3
   },
   "file_extension": ".py",
   "mimetype": "text/x-python",
   "name": "python",
   "nbconvert_exporter": "python",
   "pygments_lexer": "ipython3",
   "version": "3.8.5"
  },
  "toc": {
   "base_numbering": 1,
   "nav_menu": {},
   "number_sections": false,
   "sideBar": true,
   "skip_h1_title": false,
   "title_cell": "Table of Contents",
   "title_sidebar": "Contents",
   "toc_cell": false,
   "toc_position": {},
   "toc_section_display": true,
   "toc_window_display": false
  }
 },
 "nbformat": 4,
 "nbformat_minor": 4
}
