{
 "cells": [
  {
   "cell_type": "code",
   "execution_count": 1,
   "metadata": {
    "ExecuteTime": {
     "end_time": "2021-07-01T18:31:36.265077Z",
     "start_time": "2021-07-01T18:31:34.421903Z"
    }
   },
   "outputs": [],
   "source": [
    "import pandas as pd\n",
    "import matplotlib.pyplot as plt\n",
    "import seaborn as sns\n",
    "import numpy as np\n",
    "plt.style.use('seaborn')\n",
    "from sklearn import model_selection, preprocessing, feature_selection, ensemble, linear_model, metrics, decomposition"
   ]
  },
  {
   "cell_type": "markdown",
   "metadata": {},
   "source": [
    "# Begin importing data"
   ]
  },
  {
   "cell_type": "code",
   "execution_count": 2,
   "metadata": {
    "ExecuteTime": {
     "end_time": "2021-07-01T18:31:57.386098Z",
     "start_time": "2021-07-01T18:31:36.267711Z"
    }
   },
   "outputs": [],
   "source": [
    "files = [\"stage_2\", \"stage_3\", \"stage_4\", \"playoffs\"]\n",
    "\n",
    "df = pd.read_csv(\"data/phs_2018_stage_1.csv\")\n",
    "for f in files:\n",
    "    df = df.append(pd.read_csv(\"data/phs_2018_\" + f + \".csv\"))\n",
    "\n",
    "files.insert(0, \"stage_1\")\n",
    "for f in files:\n",
    "    df = df.append(pd.read_csv(\"data/phs_2019_\" + f + \".csv\").rename(columns={\"pelstart_time\":'start_time'}))\n",
    "df = df.append(pd.read_csv('data/phs_2020_1.csv').rename(columns={\"hero_name\":'hero',\"team_name\":\"team\",\"player_name\":\"player\",\"esports_match_id\":\"match_id\",\"tournament_title\":\"stage\"}))\n",
    "df = df.append(pd.read_csv('data/phs_2020_2.csv').rename(columns={\"hero_name\":'hero',\"team_name\":\"team\",\"player_name\":\"player\",\"esports_match_id\":\"match_id\",\"tournament_title\":\"stage\"}))\n",
    "df = df.append(pd.read_csv('data/phs_2021_1.csv').rename(columns={\"hero_name\":'hero',\"team_name\":\"team\",\"player_name\":\"player\",\"esports_match_id\":\"match_id\",\"tournament_title\":\"stage\"}))"
   ]
  },
  {
   "cell_type": "code",
   "execution_count": 3,
   "metadata": {
    "ExecuteTime": {
     "end_time": "2021-07-01T18:31:57.491424Z",
     "start_time": "2021-07-01T18:31:57.390832Z"
    }
   },
   "outputs": [],
   "source": [
    "map_df = pd.read_csv(\"data/match_map_stats.csv\", index_col=\"match_id\")"
   ]
  },
  {
   "cell_type": "markdown",
   "metadata": {},
   "source": [
    "# Create some boolean masks"
   ]
  },
  {
   "cell_type": "code",
   "execution_count": 4,
   "metadata": {
    "ExecuteTime": {
     "end_time": "2021-07-01T18:32:02.376639Z",
     "start_time": "2021-07-01T18:31:57.494022Z"
    }
   },
   "outputs": [],
   "source": [
    "widow = df[\"hero\"] == \"Widowmaker\"\n",
    "mccree = df[\"hero\"] == \"McCree\"\n",
    "ashe = df[\"hero\"] == \"Ashe\"\n",
    "hanzo = df[\"hero\"] == \"Hanzo\"\n",
    "allHeros = df[\"hero\"] == \"All Heroes\"\n",
    "damageDone = df[\"stat_name\"] == \"All Damage Done\"\n",
    "weapAcc = df[\"stat_name\"] == \"Weapon Accuracy\"\n",
    "kills = df[\"stat_name\"] == \"Eliminations\"\n",
    "timePlayed = df[\"stat_name\"] == \"Time Played\"\n",
    "weapAcc = df[\"stat_name\"] == \"Weapon Accuracy\"\n",
    "kills = df[\"stat_name\"] == \"Eliminations\"\n"
   ]
  },
  {
   "cell_type": "markdown",
   "metadata": {},
   "source": [
    "# Create win dataframe\n"
   ]
  },
  {
   "cell_type": "code",
   "execution_count": 5,
   "metadata": {
    "ExecuteTime": {
     "end_time": "2021-07-01T18:32:04.441439Z",
     "start_time": "2021-07-01T18:32:02.379760Z"
    }
   },
   "outputs": [],
   "source": [
    "match_win = map_df[['match_winner']]\n",
    "match_win = match_win[~match_win.index.duplicated(keep='first')]\n",
    "df_match = df.set_index('match_id')\n",
    "df_match_player = df[allHeros & timePlayed].set_index('match_id')\n",
    "df_win = pd.merge(df_match_player, match_win, left_index=True, right_index=True)\n",
    "df_complete = pd.merge(df_match, match_win, left_index=True, right_index=True)   "
   ]
  },
  {
   "cell_type": "code",
   "execution_count": 6,
   "metadata": {
    "ExecuteTime": {
     "end_time": "2021-07-01T18:32:52.356913Z",
     "start_time": "2021-07-01T18:32:04.444180Z"
    }
   },
   "outputs": [],
   "source": [
    "def win_lose(x,y):\n",
    "    if (x == y):\n",
    "        return 'win'\n",
    "    else:\n",
    "        return 'lose'\n",
    "        \n",
    "df_win[\"match_result\"] = df_win[[\"team\",\"match_winner\"]].apply(lambda x : win_lose(*x), axis=1)\n",
    "df_complete[\"match_result\"] = df_complete[[\"team\",\"match_winner\"]].apply(lambda x : win_lose(*x), axis=1)"
   ]
  },
  {
   "cell_type": "code",
   "execution_count": 19,
   "metadata": {
    "ExecuteTime": {
     "end_time": "2021-07-01T16:32:01.321507Z",
     "start_time": "2021-07-01T16:32:00.438596Z"
    }
   },
   "outputs": [
    {
     "data": {
      "text/html": [
       "<div>\n",
       "<style scoped>\n",
       "    .dataframe tbody tr th:only-of-type {\n",
       "        vertical-align: middle;\n",
       "    }\n",
       "\n",
       "    .dataframe tbody tr th {\n",
       "        vertical-align: top;\n",
       "    }\n",
       "\n",
       "    .dataframe thead th {\n",
       "        text-align: right;\n",
       "    }\n",
       "</style>\n",
       "<table border=\"1\" class=\"dataframe\">\n",
       "  <thead>\n",
       "    <tr style=\"text-align: right;\">\n",
       "      <th></th>\n",
       "      <th>start_time</th>\n",
       "      <th>stage</th>\n",
       "      <th>map_type</th>\n",
       "      <th>map_name</th>\n",
       "      <th>player</th>\n",
       "      <th>team</th>\n",
       "      <th>stat_name</th>\n",
       "      <th>hero</th>\n",
       "      <th>stat_amount</th>\n",
       "      <th>match_winner</th>\n",
       "      <th>match_result</th>\n",
       "    </tr>\n",
       "    <tr>\n",
       "      <th>match_id</th>\n",
       "      <th></th>\n",
       "      <th></th>\n",
       "      <th></th>\n",
       "      <th></th>\n",
       "      <th></th>\n",
       "      <th></th>\n",
       "      <th></th>\n",
       "      <th></th>\n",
       "      <th></th>\n",
       "      <th></th>\n",
       "      <th></th>\n",
       "    </tr>\n",
       "  </thead>\n",
       "  <tbody>\n",
       "    <tr>\n",
       "      <th>10223</th>\n",
       "      <td>1/11/2018 0:12</td>\n",
       "      <td>Overwatch League - Stage 1</td>\n",
       "      <td>PAYLOAD</td>\n",
       "      <td>Dorado</td>\n",
       "      <td>Agilities</td>\n",
       "      <td>Los Angeles Valiant</td>\n",
       "      <td>Time Played</td>\n",
       "      <td>All Heroes</td>\n",
       "      <td>836.332770</td>\n",
       "      <td>Los Angeles Valiant</td>\n",
       "      <td>win</td>\n",
       "    </tr>\n",
       "    <tr>\n",
       "      <th>10223</th>\n",
       "      <td>1/11/2018 0:12</td>\n",
       "      <td>Overwatch League - Stage 1</td>\n",
       "      <td>PAYLOAD</td>\n",
       "      <td>Dorado</td>\n",
       "      <td>Agilities</td>\n",
       "      <td>Los Angeles Valiant</td>\n",
       "      <td>Time Played</td>\n",
       "      <td>Genji</td>\n",
       "      <td>836.332770</td>\n",
       "      <td>Los Angeles Valiant</td>\n",
       "      <td>win</td>\n",
       "    </tr>\n",
       "    <tr>\n",
       "      <th>10223</th>\n",
       "      <td>1/11/2018 0:12</td>\n",
       "      <td>Overwatch League - Stage 1</td>\n",
       "      <td>PAYLOAD</td>\n",
       "      <td>Dorado</td>\n",
       "      <td>Envy</td>\n",
       "      <td>Los Angeles Valiant</td>\n",
       "      <td>Time Played</td>\n",
       "      <td>All Heroes</td>\n",
       "      <td>836.332770</td>\n",
       "      <td>Los Angeles Valiant</td>\n",
       "      <td>win</td>\n",
       "    </tr>\n",
       "    <tr>\n",
       "      <th>10223</th>\n",
       "      <td>1/11/2018 0:12</td>\n",
       "      <td>Overwatch League - Stage 1</td>\n",
       "      <td>PAYLOAD</td>\n",
       "      <td>Dorado</td>\n",
       "      <td>Envy</td>\n",
       "      <td>Los Angeles Valiant</td>\n",
       "      <td>Time Played</td>\n",
       "      <td>D.Va</td>\n",
       "      <td>836.332770</td>\n",
       "      <td>Los Angeles Valiant</td>\n",
       "      <td>win</td>\n",
       "    </tr>\n",
       "    <tr>\n",
       "      <th>10223</th>\n",
       "      <td>1/11/2018 0:12</td>\n",
       "      <td>Overwatch League - Stage 1</td>\n",
       "      <td>PAYLOAD</td>\n",
       "      <td>Dorado</td>\n",
       "      <td>Fate</td>\n",
       "      <td>Los Angeles Valiant</td>\n",
       "      <td>Time Played</td>\n",
       "      <td>All Heroes</td>\n",
       "      <td>836.332770</td>\n",
       "      <td>Los Angeles Valiant</td>\n",
       "      <td>win</td>\n",
       "    </tr>\n",
       "    <tr>\n",
       "      <th>...</th>\n",
       "      <td>...</td>\n",
       "      <td>...</td>\n",
       "      <td>...</td>\n",
       "      <td>...</td>\n",
       "      <td>...</td>\n",
       "      <td>...</td>\n",
       "      <td>...</td>\n",
       "      <td>...</td>\n",
       "      <td>...</td>\n",
       "      <td>...</td>\n",
       "      <td>...</td>\n",
       "    </tr>\n",
       "    <tr>\n",
       "      <th>37392</th>\n",
       "      <td>2021-05-08 05:01:45</td>\n",
       "      <td>OWL 2021</td>\n",
       "      <td>PAYLOAD</td>\n",
       "      <td>Havana</td>\n",
       "      <td>Yaki</td>\n",
       "      <td>Florida Mayhem</td>\n",
       "      <td>Time Played</td>\n",
       "      <td>Mei</td>\n",
       "      <td>361.113480</td>\n",
       "      <td>Florida Mayhem</td>\n",
       "      <td>win</td>\n",
       "    </tr>\n",
       "    <tr>\n",
       "      <th>37392</th>\n",
       "      <td>2021-05-08 05:01:45</td>\n",
       "      <td>OWL 2021</td>\n",
       "      <td>PAYLOAD</td>\n",
       "      <td>Havana</td>\n",
       "      <td>Yaki</td>\n",
       "      <td>Florida Mayhem</td>\n",
       "      <td>Time Played</td>\n",
       "      <td>Tracer</td>\n",
       "      <td>320.176485</td>\n",
       "      <td>Florida Mayhem</td>\n",
       "      <td>win</td>\n",
       "    </tr>\n",
       "    <tr>\n",
       "      <th>37392</th>\n",
       "      <td>2021-05-08 05:01:45</td>\n",
       "      <td>OWL 2021</td>\n",
       "      <td>PAYLOAD</td>\n",
       "      <td>Havana</td>\n",
       "      <td>bqb</td>\n",
       "      <td>Florida Mayhem</td>\n",
       "      <td>Time Played</td>\n",
       "      <td>All Heroes</td>\n",
       "      <td>1170.835146</td>\n",
       "      <td>Florida Mayhem</td>\n",
       "      <td>win</td>\n",
       "    </tr>\n",
       "    <tr>\n",
       "      <th>37392</th>\n",
       "      <td>2021-05-08 05:01:45</td>\n",
       "      <td>OWL 2021</td>\n",
       "      <td>PAYLOAD</td>\n",
       "      <td>Havana</td>\n",
       "      <td>bqb</td>\n",
       "      <td>Florida Mayhem</td>\n",
       "      <td>Time Played</td>\n",
       "      <td>McCree</td>\n",
       "      <td>474.015873</td>\n",
       "      <td>Florida Mayhem</td>\n",
       "      <td>win</td>\n",
       "    </tr>\n",
       "    <tr>\n",
       "      <th>37392</th>\n",
       "      <td>2021-05-08 05:01:45</td>\n",
       "      <td>OWL 2021</td>\n",
       "      <td>PAYLOAD</td>\n",
       "      <td>Havana</td>\n",
       "      <td>bqb</td>\n",
       "      <td>Florida Mayhem</td>\n",
       "      <td>Time Played</td>\n",
       "      <td>Widowmaker</td>\n",
       "      <td>696.819274</td>\n",
       "      <td>Florida Mayhem</td>\n",
       "      <td>win</td>\n",
       "    </tr>\n",
       "  </tbody>\n",
       "</table>\n",
       "<p>135290 rows × 11 columns</p>\n",
       "</div>"
      ],
      "text/plain": [
       "                   start_time                       stage map_type map_name  \\\n",
       "match_id                                                                      \n",
       "10223          1/11/2018 0:12  Overwatch League - Stage 1  PAYLOAD   Dorado   \n",
       "10223          1/11/2018 0:12  Overwatch League - Stage 1  PAYLOAD   Dorado   \n",
       "10223          1/11/2018 0:12  Overwatch League - Stage 1  PAYLOAD   Dorado   \n",
       "10223          1/11/2018 0:12  Overwatch League - Stage 1  PAYLOAD   Dorado   \n",
       "10223          1/11/2018 0:12  Overwatch League - Stage 1  PAYLOAD   Dorado   \n",
       "...                       ...                         ...      ...      ...   \n",
       "37392     2021-05-08 05:01:45                    OWL 2021  PAYLOAD   Havana   \n",
       "37392     2021-05-08 05:01:45                    OWL 2021  PAYLOAD   Havana   \n",
       "37392     2021-05-08 05:01:45                    OWL 2021  PAYLOAD   Havana   \n",
       "37392     2021-05-08 05:01:45                    OWL 2021  PAYLOAD   Havana   \n",
       "37392     2021-05-08 05:01:45                    OWL 2021  PAYLOAD   Havana   \n",
       "\n",
       "             player                 team    stat_name        hero  \\\n",
       "match_id                                                            \n",
       "10223     Agilities  Los Angeles Valiant  Time Played  All Heroes   \n",
       "10223     Agilities  Los Angeles Valiant  Time Played       Genji   \n",
       "10223          Envy  Los Angeles Valiant  Time Played  All Heroes   \n",
       "10223          Envy  Los Angeles Valiant  Time Played        D.Va   \n",
       "10223          Fate  Los Angeles Valiant  Time Played  All Heroes   \n",
       "...             ...                  ...          ...         ...   \n",
       "37392          Yaki       Florida Mayhem  Time Played         Mei   \n",
       "37392          Yaki       Florida Mayhem  Time Played      Tracer   \n",
       "37392           bqb       Florida Mayhem  Time Played  All Heroes   \n",
       "37392           bqb       Florida Mayhem  Time Played      McCree   \n",
       "37392           bqb       Florida Mayhem  Time Played  Widowmaker   \n",
       "\n",
       "          stat_amount         match_winner match_result  \n",
       "match_id                                                 \n",
       "10223      836.332770  Los Angeles Valiant          win  \n",
       "10223      836.332770  Los Angeles Valiant          win  \n",
       "10223      836.332770  Los Angeles Valiant          win  \n",
       "10223      836.332770  Los Angeles Valiant          win  \n",
       "10223      836.332770  Los Angeles Valiant          win  \n",
       "...               ...                  ...          ...  \n",
       "37392      361.113480       Florida Mayhem          win  \n",
       "37392      320.176485       Florida Mayhem          win  \n",
       "37392     1170.835146       Florida Mayhem          win  \n",
       "37392      474.015873       Florida Mayhem          win  \n",
       "37392      696.819274       Florida Mayhem          win  \n",
       "\n",
       "[135290 rows x 11 columns]"
      ]
     },
     "execution_count": 19,
     "metadata": {},
     "output_type": "execute_result"
    }
   ],
   "source": [
    "df_complete[timePlayed_c]"
   ]
  },
  {
   "cell_type": "markdown",
   "metadata": {
    "ExecuteTime": {
     "end_time": "2021-07-01T17:02:49.214481Z",
     "start_time": "2021-07-01T17:02:48.978299Z"
    }
   },
   "source": [
    "At least 1 min and at least 10 wins"
   ]
  },
  {
   "cell_type": "code",
   "execution_count": 36,
   "metadata": {
    "ExecuteTime": {
     "end_time": "2021-07-01T17:04:34.463967Z",
     "start_time": "2021-07-01T17:04:34.206191Z"
    }
   },
   "outputs": [],
   "source": [
    "df_win_percent = df_complete[timePlayed_c]\n",
    "df_win_percent = df_win_percent[(df_win_percent['stat_amount'] >= 60)]\n",
    "df_win_percent = pd.pivot_table(df_win_percent, index=[\"map_name\",\"hero\"], columns=['match_result'], aggfunc='size')\n",
    "df_win_percent[\"Win Percent\"] = df_win_percent.apply(\n",
    "        lambda x: x[\"win\"] / (x[\"lose\"]+x[\"win\"]) * 100, axis=\"columns\")\n",
    "df_win_percent.to_csv(r'data/win_percent_data.csv')"
   ]
  },
  {
   "cell_type": "code",
   "execution_count": 71,
   "metadata": {
    "ExecuteTime": {
     "end_time": "2021-06-30T16:14:16.271718Z",
     "start_time": "2021-06-30T16:14:16.207293Z"
    }
   },
   "outputs": [],
   "source": [
    "df_win_players = df_win[[\"player\",\"match_result\",\"team\"]].reset_index()\n",
    "df_win_team = df_win[[\"match_result\",\"team\"]].reset_index().drop_duplicates(keep=\"first\").set_index([\"match_id\",'team'])\n",
    "df_win_players = df_win_players.drop_duplicates(keep=\"first\").set_index([\"match_id\",'team'])\n",
    "df_win_players = pd.pivot_table(df_win_players.reset_index(), index=['match_id','team'], values=['player'], aggfunc='size').to_frame()\n",
    "df_win_subs = pd.merge(df_win_players, df_win_team, left_index=True, right_index=True)\n"
   ]
  },
  {
   "cell_type": "code",
   "execution_count": 73,
   "metadata": {
    "ExecuteTime": {
     "end_time": "2021-06-30T16:14:27.118357Z",
     "start_time": "2021-06-30T16:14:27.095913Z"
    }
   },
   "outputs": [
    {
     "data": {
      "text/html": [
       "<div>\n",
       "<style scoped>\n",
       "    .dataframe tbody tr th:only-of-type {\n",
       "        vertical-align: middle;\n",
       "    }\n",
       "\n",
       "    .dataframe tbody tr th {\n",
       "        vertical-align: top;\n",
       "    }\n",
       "\n",
       "    .dataframe thead th {\n",
       "        text-align: right;\n",
       "    }\n",
       "</style>\n",
       "<table border=\"1\" class=\"dataframe\">\n",
       "  <thead>\n",
       "    <tr style=\"text-align: right;\">\n",
       "      <th>match_result</th>\n",
       "      <th>lose</th>\n",
       "      <th>win</th>\n",
       "    </tr>\n",
       "    <tr>\n",
       "      <th>player_count</th>\n",
       "      <th></th>\n",
       "      <th></th>\n",
       "    </tr>\n",
       "  </thead>\n",
       "  <tbody>\n",
       "    <tr>\n",
       "      <th>7</th>\n",
       "      <td>310.0</td>\n",
       "      <td>298.0</td>\n",
       "    </tr>\n",
       "    <tr>\n",
       "      <th>8</th>\n",
       "      <td>89.0</td>\n",
       "      <td>85.0</td>\n",
       "    </tr>\n",
       "    <tr>\n",
       "      <th>9</th>\n",
       "      <td>37.0</td>\n",
       "      <td>45.0</td>\n",
       "    </tr>\n",
       "    <tr>\n",
       "      <th>10</th>\n",
       "      <td>8.0</td>\n",
       "      <td>7.0</td>\n",
       "    </tr>\n",
       "    <tr>\n",
       "      <th>11</th>\n",
       "      <td>1.0</td>\n",
       "      <td>2.0</td>\n",
       "    </tr>\n",
       "    <tr>\n",
       "      <th>12</th>\n",
       "      <td>2.0</td>\n",
       "      <td>NaN</td>\n",
       "    </tr>\n",
       "  </tbody>\n",
       "</table>\n",
       "</div>"
      ],
      "text/plain": [
       "match_result   lose    win\n",
       "player_count              \n",
       "7             310.0  298.0\n",
       "8              89.0   85.0\n",
       "9              37.0   45.0\n",
       "10              8.0    7.0\n",
       "11              1.0    2.0\n",
       "12              2.0    NaN"
      ]
     },
     "execution_count": 73,
     "metadata": {},
     "output_type": "execute_result"
    }
   ],
   "source": [
    "df_win_subs.columns = ['player_count', 'match_result']\n",
    "df_win_subs = df_win_subs[df_win_subs[\"player_count\"] != 6]\n",
    "df_win_subs = pd.pivot_table(df_win_subs, index=['player_count'], columns=['match_result'], aggfunc='size')\n",
    "df_win_subs"
   ]
  },
  {
   "cell_type": "code",
   "execution_count": 7,
   "metadata": {
    "ExecuteTime": {
     "end_time": "2021-07-01T18:32:57.850783Z",
     "start_time": "2021-07-01T18:32:52.361388Z"
    }
   },
   "outputs": [],
   "source": [
    "def heroType(x):\n",
    "    if (x == \"D.Va\")|(x == \"Winston\")| (x == \"Zarya\")| (x == \"Reinhardt\")| (x == \"Wrecking Ball\")|( x == \"Orisa\")| (x ==\"Roadhog\")|(x==\"Sigma\"):\n",
    "        return \"Tank\"\n",
    "    elif (x==\"Zenyatta\")| (x==\"Lúcio\")| (x == \"Mercy\")| (x == \"Ana\")| (x == \"Brigitte\")|(x == \"Moira\")|(x == \"Baptiste\"):\n",
    "        return \"Support\"\n",
    "    elif (x == \"Tracer\")| (x == \"Widowmaker\")| (x == \"Sombra\")| (x == \"Genji\")| (x == \"Pharah\")| (x == \"Hanzo\")|(x == \"Junkrat\")|(x == \"Mei\")|(x == \"McCree\")|(x == \"Soldier: 76\")|(x == \"Doomfist\")|(x == \"Reaper\")|(x == \"Bastion\")|(x == \"Symmetra\")|(x == \"Torbjörn\")|(x == \"Ashe\")|(x == \"Echo\"):\n",
    "        return \"Dps\"\n",
    "    else:\n",
    "        return \"none\"\n",
    "df[\"hero_type\"] = df[\"hero\"].apply(heroType)\n",
    "##df_type = df[df[\"hero_type\"] != \"none\"]"
   ]
  },
  {
   "cell_type": "markdown",
   "metadata": {},
   "source": [
    "# Compute highest DPS hero"
   ]
  },
  {
   "cell_type": "code",
   "execution_count": null,
   "metadata": {
    "ExecuteTime": {
     "end_time": "2021-06-22T16:19:15.182709Z",
     "start_time": "2021-06-22T16:19:15.106506Z"
    }
   },
   "outputs": [],
   "source": [
    "herodps = []\n",
    "hero = [widow, mccree, ashe, hanzo]\n",
    "for n in hero:\n",
    "    herodps.append(\n",
    "        (df[damageDone & n][\"stat_amount\"].sum())\n",
    "        / (df[timePlayed & n][\"stat_amount\"].sum())\n",
    "    )\n",
    "herodps"
   ]
  },
  {
   "cell_type": "code",
   "execution_count": 8,
   "metadata": {
    "ExecuteTime": {
     "end_time": "2021-07-01T18:33:02.606133Z",
     "start_time": "2021-07-01T18:32:57.854120Z"
    }
   },
   "outputs": [],
   "source": [
    "ashe_c = df_complete[\"hero\"] == \"Ashe\"\n",
    "damageDone_c = df_complete[\"stat_name\"] == \"All Damage Done\"\n",
    "timePlayed_c = df_complete[\"stat_name\"] == \"Time Played\"\n",
    "shots_c = df_complete[\"stat_name\"] == \"Shots Fired\"\n",
    "damageTaken_c = df_complete[\"stat_name\"] == \"Damage Taken\"\n",
    "dynaDmg_c = df_complete[\"stat_name\"] == \"Damage - Dynamite\"\n",
    "ults_c =  df_complete[\"stat_name\"] == \"Ultimates Used\"\n",
    "objTime_c = df_complete[\"stat_name\"] == \"Objective Time\""
   ]
  },
  {
   "cell_type": "code",
   "execution_count": null,
   "metadata": {
    "ExecuteTime": {
     "end_time": "2021-06-22T16:19:19.520079Z",
     "start_time": "2021-06-22T16:19:19.513166Z"
    }
   },
   "outputs": [],
   "source": [
    "\"Damage Taken\",\"Shots Fired\",\"Damage - Dynamite\",\"Ultimates Used\",\"Objective Time\""
   ]
  },
  {
   "cell_type": "code",
   "execution_count": null,
   "metadata": {
    "ExecuteTime": {
     "end_time": "2021-06-22T16:19:20.352504Z",
     "start_time": "2021-06-22T16:19:19.523732Z"
    }
   },
   "outputs": [],
   "source": [
    "df_ml_1 = pd.pivot_table(df_complete[ashe_c &(damageDone_c|timePlayed_c|shots_c|damageTaken_c|dynaDmg_c|ults_c|objTime_c)].reset_index(),values=('stat_amount'),\n",
    "                    index=['match_id','player'],columns=['stat_name'], aggfunc=np.sum)\n",
    "df_ml_2 = pd.pivot_table(df_complete[ashe_c &(damageDone_c|timePlayed_c|shots_c|damageTaken_c|dynaDmg_c|ults_c|objTime_c)].reset_index(),values='match_result',\n",
    "                    index=['match_id','player'],columns=[], aggfunc='first')\n",
    "df_ml = pd.concat([df_ml_1, df_ml_2], axis=1)\n",
    "df_ml[\"Damage per Second\"] = df_ml.apply(\n",
    "        lambda x: x[\"All Damage Done\"] / x[\"Time Played\"], axis=\"columns\")\n",
    "df_ml[\"Shots per Second\"] = df_ml.apply(\n",
    "        lambda x: x[\"Shots Fired\"] / (x[\"Time Played\"]), axis=\"columns\")\n",
    "df_ml[\"Damage Recieved per Second\"] = df_ml.apply(\n",
    "        lambda x: x[\"Damage Taken\"] / (x[\"Time Played\"]), axis=\"columns\")\n",
    "df_ml[\"Ultimates per Second\"] = df_ml.apply(\n",
    "        lambda x: x[\"Ultimates Used\"] / (x[\"Time Played\"]), axis=\"columns\")\n",
    "df_ml[\"Dynamite Damage per Second\"] = df_ml.apply(\n",
    "        lambda x: x[\"Damage - Dynamite\"] / (x[\"Time Played\"]), axis=\"columns\")\n",
    "df_ml[\"Objective Time per Second\"] = df_ml.apply(\n",
    "        lambda x: x[\"Objective Time\"] / (x[\"Time Played\"]), axis=\"columns\")\n",
    "df_ml = df_ml[(df_ml['Time Played'] >= 60)&(df_ml['All Damage Done'] >= 0.1)]\n",
    "df_ml = df_ml.drop(['All Damage Done', 'Time Played',\"Damage Taken\",\"Shots Fired\",\"Damage - Dynamite\",\"Ultimates Used\",\"Objective Time\"], axis=1).fillna(0)"
   ]
  },
  {
   "cell_type": "code",
   "execution_count": null,
   "metadata": {
    "ExecuteTime": {
     "end_time": "2021-06-22T16:19:20.394440Z",
     "start_time": "2021-06-22T16:19:20.355522Z"
    }
   },
   "outputs": [],
   "source": [
    "def win_to_number(x):\n",
    "    if x == \"win\":\n",
    "        return 1\n",
    "    elif x==\"lose\":\n",
    "        return 0\n",
    "    else:\n",
    "        return \"none\"\n",
    "df_ml[\"match_result\"] = df_ml[\"match_result\"].apply(win_to_number)\n",
    "df_ml"
   ]
  },
  {
   "cell_type": "code",
   "execution_count": null,
   "metadata": {
    "ExecuteTime": {
     "end_time": "2021-06-22T16:19:20.412969Z",
     "start_time": "2021-06-22T16:19:20.398094Z"
    }
   },
   "outputs": [],
   "source": [
    "scaler = preprocessing.MinMaxScaler(feature_range=(0,1))\n",
    "X = scaler.fit_transform(df_ml.drop(\"match_result\", axis=1))\n",
    "df_scaled= pd.DataFrame(X, columns=df_ml.drop(\"match_result\", axis=1).columns, index=df_ml.index)\n",
    "df_scaled[\"match_result\"] = df_ml[\"match_result\"]"
   ]
  },
  {
   "cell_type": "code",
   "execution_count": null,
   "metadata": {
    "ExecuteTime": {
     "end_time": "2021-06-22T16:19:21.327868Z",
     "start_time": "2021-06-22T16:19:20.416755Z"
    }
   },
   "outputs": [],
   "source": [
    "corr_matrix = df_scaled.copy()\n",
    "for col in corr_matrix.columns:\n",
    "    if corr_matrix[col].dtype == \"O\":\n",
    "         corr_matrix[col] = corr_matrix[col].factorize(sort=True)[0]\n",
    "corr_matrix = corr_matrix.corr(method=\"pearson\")\n",
    "sns.heatmap(corr_matrix, vmin=-1., vmax=1., annot=True, fmt='.2f', cmap=\"YlGnBu\", cbar=True, linewidths=0.5)\n",
    "plt.title(\"pearson correlation\")"
   ]
  },
  {
   "cell_type": "code",
   "execution_count": null,
   "metadata": {
    "ExecuteTime": {
     "end_time": "2021-06-22T16:25:26.007880Z",
     "start_time": "2021-06-22T16:25:25.993980Z"
    }
   },
   "outputs": [],
   "source": [
    "df_ml_train = df_scaled.sample(frac=0.75)\n",
    "df_ml_test = df_scaled.append(df_ml_train)\n",
    "df_ml_test = df_ml_test.drop_duplicates(keep=False)"
   ]
  },
  {
   "cell_type": "code",
   "execution_count": 126,
   "metadata": {
    "ExecuteTime": {
     "end_time": "2021-06-22T19:07:05.242442Z",
     "start_time": "2021-06-22T19:07:05.232454Z"
    }
   },
   "outputs": [],
   "source": [
    "x_train = df_ml_train.drop(\"match_result\", axis=1)\n",
    "y_train = df_ml_train['match_result']\n",
    "x_test = df_ml_test.drop(\"match_result\", axis=1)\n",
    "y_test = df_ml_test['match_result']"
   ]
  },
  {
   "cell_type": "code",
   "execution_count": null,
   "metadata": {
    "ExecuteTime": {
     "end_time": "2021-06-22T16:43:59.551717Z",
     "start_time": "2021-06-22T16:43:59.523007Z"
    }
   },
   "outputs": [],
   "source": [
    "df_ml_train"
   ]
  },
  {
   "cell_type": "code",
   "execution_count": 117,
   "metadata": {
    "ExecuteTime": {
     "end_time": "2021-06-22T18:14:32.752060Z",
     "start_time": "2021-06-22T18:14:32.743758Z"
    }
   },
   "outputs": [],
   "source": [
    "model = ensemble.GradientBoostingClassifier()\n",
    "param_dic = {'learning_rate':[0.15,0.1,0.05,0.01,0.005,0.001],\n",
    "'n_estimators':[100,250,500,750,1000,1250,1500,1750],\n",
    "'max_depth':[2,3,4,5,6,7],\n",
    "'min_samples_split':[2,4,6,8,10,20,40,60,100],\n",
    "'min_samples_leaf':[1,3,5],\n",
    "'max_features':[2,3,4],\n",
    "'subsample':[0.7,0.75,0.8,0.85,0.9,0.95,1]} "
   ]
  },
  {
   "cell_type": "code",
   "execution_count": null,
   "metadata": {
    "ExecuteTime": {
     "end_time": "2021-06-22T16:43:04.815793Z",
     "start_time": "2021-06-22T16:43:04.810891Z"
    }
   },
   "outputs": [],
   "source": [
    "\n",
    "\n"
   ]
  },
  {
   "cell_type": "code",
   "execution_count": 119,
   "metadata": {
    "ExecuteTime": {
     "end_time": "2021-06-22T18:16:23.851449Z",
     "start_time": "2021-06-22T18:16:23.844730Z"
    }
   },
   "outputs": [
    {
     "name": "stdout",
     "output_type": "stream",
     "text": [
      "Best Model parameters: {'subsample': 0.7, 'n_estimators': 1500, 'min_samples_split': 10, 'min_samples_leaf': 3, 'max_features': 5, 'max_depth': 5, 'learning_rate': 0.05}\n",
      "Best Model mean accuracy: 0.6121951219512195\n"
     ]
    }
   ],
   "source": [
    "print(\"Best Model parameters:\", random_search.best_params_)\n",
    "print(\"Best Model mean accuracy:\", random_search.best_score_)\n",
    "model = random_search.best_estimator_"
   ]
  },
  {
   "cell_type": "code",
   "execution_count": 120,
   "metadata": {
    "ExecuteTime": {
     "end_time": "2021-06-22T18:25:42.128448Z",
     "start_time": "2021-06-22T18:16:44.936637Z"
    }
   },
   "outputs": [
    {
     "name": "stdout",
     "output_type": "stream",
     "text": [
      "Best Model parameters: {'subsample': 0.75, 'n_estimators': 1250, 'min_samples_split': 6, 'min_samples_leaf': 5, 'max_features': 4, 'max_depth': 3, 'learning_rate': 0.005}\n",
      "Best Model mean accuracy: 0.624390243902439\n"
     ]
    }
   ],
   "source": [
    "\n",
    "random_search = model_selection.RandomizedSearchCV(model, \n",
    "       param_distributions=param_dic, n_iter=100, \n",
    "       scoring=\"accuracy\").fit(x_train, y_train)\n",
    "print(\"Best Model parameters:\", random_search.best_params_)\n",
    "print(\"Best Model mean accuracy:\", random_search.best_score_)\n",
    "model = random_search.best_estimator_\n"
   ]
  },
  {
   "cell_type": "code",
   "execution_count": 123,
   "metadata": {
    "ExecuteTime": {
     "end_time": "2021-06-22T19:05:49.870770Z",
     "start_time": "2021-06-22T19:05:48.518388Z"
    }
   },
   "outputs": [],
   "source": [
    "model.fit(x_train, y_train)\n",
    "## test\n",
    "predicted_prob = model.predict_proba(x_test)[:,1]\n",
    "predicted = model.predict(x_test)"
   ]
  },
  {
   "cell_type": "code",
   "execution_count": 127,
   "metadata": {
    "ExecuteTime": {
     "end_time": "2021-06-22T19:07:11.564071Z",
     "start_time": "2021-06-22T19:07:11.541929Z"
    }
   },
   "outputs": [
    {
     "name": "stdout",
     "output_type": "stream",
     "text": [
      "Accuracy (overall correct predictions): 0.56\n",
      "Auc: 0.59\n"
     ]
    }
   ],
   "source": [
    "accuracy = metrics.accuracy_score(y_test, predicted)\n",
    "auc = metrics.roc_auc_score(y_test, predicted_prob)\n",
    "print(\"Accuracy (overall correct predictions):\",  round(accuracy,2))\n",
    "print(\"Auc:\", round(auc,2))\n"
   ]
  },
  {
   "cell_type": "code",
   "execution_count": 79,
   "metadata": {
    "ExecuteTime": {
     "end_time": "2021-06-30T18:26:05.868155Z",
     "start_time": "2021-06-30T18:26:05.790932Z"
    },
    "code_folding": []
   },
   "outputs": [
    {
     "data": {
      "text/html": [
       "<div>\n",
       "<style scoped>\n",
       "    .dataframe tbody tr th:only-of-type {\n",
       "        vertical-align: middle;\n",
       "    }\n",
       "\n",
       "    .dataframe tbody tr th {\n",
       "        vertical-align: top;\n",
       "    }\n",
       "\n",
       "    .dataframe thead th {\n",
       "        text-align: right;\n",
       "    }\n",
       "</style>\n",
       "<table border=\"1\" class=\"dataframe\">\n",
       "  <thead>\n",
       "    <tr style=\"text-align: right;\">\n",
       "      <th></th>\n",
       "      <th>stat_name</th>\n",
       "      <th>All Damage Done</th>\n",
       "      <th>Time Played</th>\n",
       "      <th>Damage per Second</th>\n",
       "    </tr>\n",
       "    <tr>\n",
       "      <th>map_name</th>\n",
       "      <th>hero</th>\n",
       "      <th></th>\n",
       "      <th></th>\n",
       "      <th></th>\n",
       "    </tr>\n",
       "  </thead>\n",
       "  <tbody>\n",
       "    <tr>\n",
       "      <th rowspan=\"4\" valign=\"top\">Blizzard World</th>\n",
       "      <th>Ashe</th>\n",
       "      <td>1.007822e+06</td>\n",
       "      <td>37627.190706</td>\n",
       "      <td>26.784399</td>\n",
       "    </tr>\n",
       "    <tr>\n",
       "      <th>Hanzo</th>\n",
       "      <td>9.483156e+05</td>\n",
       "      <td>35371.140657</td>\n",
       "      <td>26.810434</td>\n",
       "    </tr>\n",
       "    <tr>\n",
       "      <th>McCree</th>\n",
       "      <td>7.132974e+05</td>\n",
       "      <td>30067.639510</td>\n",
       "      <td>23.723093</td>\n",
       "    </tr>\n",
       "    <tr>\n",
       "      <th>Widowmaker</th>\n",
       "      <td>1.049437e+06</td>\n",
       "      <td>66522.850450</td>\n",
       "      <td>15.775584</td>\n",
       "    </tr>\n",
       "    <tr>\n",
       "      <th>Busan</th>\n",
       "      <th>Ashe</th>\n",
       "      <td>8.725177e+05</td>\n",
       "      <td>34667.802510</td>\n",
       "      <td>25.167956</td>\n",
       "    </tr>\n",
       "    <tr>\n",
       "      <th>...</th>\n",
       "      <th>...</th>\n",
       "      <td>...</td>\n",
       "      <td>...</td>\n",
       "      <td>...</td>\n",
       "    </tr>\n",
       "    <tr>\n",
       "      <th>Volskaya Industries</th>\n",
       "      <th>Widowmaker</th>\n",
       "      <td>1.119789e+06</td>\n",
       "      <td>83215.608081</td>\n",
       "      <td>13.456481</td>\n",
       "    </tr>\n",
       "    <tr>\n",
       "      <th rowspan=\"4\" valign=\"top\">Watchpoint: Gibraltar</th>\n",
       "      <th>Ashe</th>\n",
       "      <td>6.803599e+05</td>\n",
       "      <td>25580.217842</td>\n",
       "      <td>26.597110</td>\n",
       "    </tr>\n",
       "    <tr>\n",
       "      <th>Hanzo</th>\n",
       "      <td>3.562680e+05</td>\n",
       "      <td>16977.394883</td>\n",
       "      <td>20.984846</td>\n",
       "    </tr>\n",
       "    <tr>\n",
       "      <th>McCree</th>\n",
       "      <td>3.791331e+05</td>\n",
       "      <td>16777.245275</td>\n",
       "      <td>22.598052</td>\n",
       "    </tr>\n",
       "    <tr>\n",
       "      <th>Widowmaker</th>\n",
       "      <td>1.790761e+06</td>\n",
       "      <td>115283.092216</td>\n",
       "      <td>15.533594</td>\n",
       "    </tr>\n",
       "  </tbody>\n",
       "</table>\n",
       "<p>84 rows × 3 columns</p>\n",
       "</div>"
      ],
      "text/plain": [
       "stat_name                         All Damage Done    Time Played  \\\n",
       "map_name              hero                                         \n",
       "Blizzard World        Ashe           1.007822e+06   37627.190706   \n",
       "                      Hanzo          9.483156e+05   35371.140657   \n",
       "                      McCree         7.132974e+05   30067.639510   \n",
       "                      Widowmaker     1.049437e+06   66522.850450   \n",
       "Busan                 Ashe           8.725177e+05   34667.802510   \n",
       "...                                           ...            ...   \n",
       "Volskaya Industries   Widowmaker     1.119789e+06   83215.608081   \n",
       "Watchpoint: Gibraltar Ashe           6.803599e+05   25580.217842   \n",
       "                      Hanzo          3.562680e+05   16977.394883   \n",
       "                      McCree         3.791331e+05   16777.245275   \n",
       "                      Widowmaker     1.790761e+06  115283.092216   \n",
       "\n",
       "stat_name                         Damage per Second  \n",
       "map_name              hero                           \n",
       "Blizzard World        Ashe                26.784399  \n",
       "                      Hanzo               26.810434  \n",
       "                      McCree              23.723093  \n",
       "                      Widowmaker          15.775584  \n",
       "Busan                 Ashe                25.167956  \n",
       "...                                             ...  \n",
       "Volskaya Industries   Widowmaker          13.456481  \n",
       "Watchpoint: Gibraltar Ashe                26.597110  \n",
       "                      Hanzo               20.984846  \n",
       "                      McCree              22.598052  \n",
       "                      Widowmaker          15.533594  \n",
       "\n",
       "[84 rows x 3 columns]"
      ]
     },
     "execution_count": 79,
     "metadata": {},
     "output_type": "execute_result"
    }
   ],
   "source": [
    "df_hitscan = pd.pivot_table(df[(widow | mccree | ashe | hanzo)&(damageDone|timePlayed)],values='stat_amount',\n",
    "                    index=['map_name', 'hero'],columns=['stat_name'], aggfunc=np.sum)\n",
    "df_hitscan[\"Damage per Second\"] = df_hitscan.apply(\n",
    "        lambda x: x[\"All Damage Done\"] / x[\"Time Played\"], axis=\"columns\")\n",
    "df_hitscan.to_csv(r'data/hitscan_data.csv')"
   ]
  },
  {
   "cell_type": "code",
   "execution_count": null,
   "metadata": {
    "ExecuteTime": {
     "end_time": "2021-06-10T17:23:28.548660Z",
     "start_time": "2021-06-10T17:23:27.838720Z"
    }
   },
   "outputs": [],
   "source": [
    "sns.set_style(\"dark\")\n",
    "sns.barplot(x=\"Damage per Second\", y=\"map_name\", hue=\"hero\", data=df_hitscan.reset_index(), orient=\"h\").set(ylabel='Map')\n",
    "plt.legend(title=\"Hero:\",bbox_to_anchor=(1.05, 1), loc=2, borderaxespad=0.)"
   ]
  },
  {
   "cell_type": "code",
   "execution_count": 77,
   "metadata": {
    "ExecuteTime": {
     "end_time": "2021-06-30T18:25:38.947702Z",
     "start_time": "2021-06-30T18:25:37.810677Z"
    }
   },
   "outputs": [],
   "source": [
    "support = df[\"hero_type\"] == \"Support\"\n",
    "heals = df[\"stat_name\"] == \"Healing Done\"\n",
    "blocked = df[\"stat_name\"] == \"Damage Blocked\""
   ]
  },
  {
   "cell_type": "code",
   "execution_count": null,
   "metadata": {
    "ExecuteTime": {
     "end_time": "2021-06-11T16:48:06.648675Z",
     "start_time": "2021-06-11T16:48:06.554968Z"
    }
   },
   "outputs": [],
   "source": [
    "df_heals = pd.pivot_table(df[support&(heals|timePlayed)],values='stat_amount',\n",
    "                    index=['map_name', 'hero'],columns=['stat_name'], aggfunc=np.sum)\n",
    "df_heals[\"Healing per Second\"] = df_heals.apply(\n",
    "        lambda x: x[\"Healing Done\"] / x[\"Time Played\"], axis=\"columns\")\n",
    "df_heals.to_csv(r'data/heals_data.csv')"
   ]
  },
  {
   "cell_type": "code",
   "execution_count": 81,
   "metadata": {
    "ExecuteTime": {
     "end_time": "2021-06-30T18:27:17.914755Z",
     "start_time": "2021-06-30T18:27:17.697481Z"
    }
   },
   "outputs": [],
   "source": [
    "df_block = pd.pivot_table(df[(blocked|timePlayed)],values='stat_amount',\n",
    "                    index=['map_name', 'hero'],columns=['stat_name'], aggfunc=np.sum)\n",
    "df_block[\"Damage Blocked per Second\"] = df_block.apply(\n",
    "        lambda x: x[\"Damage Blocked\"] / x[\"Time Played\"], axis=\"columns\")\n",
    "df_block.dropna().to_csv(r'data/block_data.csv')"
   ]
  },
  {
   "cell_type": "code",
   "execution_count": null,
   "metadata": {
    "ExecuteTime": {
     "end_time": "2021-06-11T17:30:03.799269Z",
     "start_time": "2021-06-11T17:30:02.637303Z"
    }
   },
   "outputs": [],
   "source": [
    "(100.7, 30.27)\n",
    "plt.subplots(figsize=a4_dims)\n",
    "sns.set_style(\"dark\")\n",
    "sns.barplot(x=\"Healing per Second\", y=\"map_name\", hue=\"hero\", data=df_heals.reset_index(), orient=\"h\").set(ylabel='Map')\n",
    "plt.legend(title=\"Hero:\",bbox_to_anchor=(1.05, 1), loc=2, borderaxespad=0.)"
   ]
  },
  {
   "cell_type": "markdown",
   "metadata": {},
   "source": [
    "Ashe has greatest dps\n",
    "\n"
   ]
  },
  {
   "cell_type": "markdown",
   "metadata": {},
   "source": [
    " \n",
    "\n",
    "\n"
   ]
  },
  {
   "cell_type": "markdown",
   "metadata": {},
   "source": [
    "\n"
   ]
  },
  {
   "cell_type": "markdown",
   "metadata": {},
   "source": [
    "# FIX THiS LATER "
   ]
  },
  {
   "cell_type": "code",
   "execution_count": 9,
   "metadata": {
    "ExecuteTime": {
     "end_time": "2021-07-01T18:33:04.599258Z",
     "start_time": "2021-07-01T18:33:02.609637Z"
    }
   },
   "outputs": [],
   "source": [
    "df_type = df[df[\"hero_type\"] != \"none\"]"
   ]
  },
  {
   "cell_type": "code",
   "execution_count": 82,
   "metadata": {
    "ExecuteTime": {
     "end_time": "2021-07-01T19:47:10.530827Z",
     "start_time": "2021-07-01T19:47:08.936297Z"
    }
   },
   "outputs": [],
   "source": [
    "damageDone_t = df_type[\"stat_name\"] == \"All Damage Done\"\n",
    "weapAcc_t = df_type[\"stat_name\"] == \"Weapon Accuracy\"\n",
    "kills_t = df_type[\"stat_name\"] == \"Eliminations\"\n",
    "time_t = df_type[\"stat_name\"] == \"Time Played\""
   ]
  },
  {
   "cell_type": "code",
   "execution_count": 83,
   "metadata": {
    "ExecuteTime": {
     "end_time": "2021-07-01T19:47:11.515473Z",
     "start_time": "2021-07-01T19:47:10.889049Z"
    }
   },
   "outputs": [],
   "source": [
    "df_weapon = pd.pivot_table(df_type[kills_t | weapAcc_t | damageDone_t | time_t],values=('stat_amount'),\n",
    "                    index=['match_id', \"map_name\",'player',\"hero\",\"hero_type\"],columns=['stat_name'], aggfunc=np.sum)\n",
    "df_weapon = df_weapon[(df_weapon['Time Played'] >= 60)]"
   ]
  },
  {
   "cell_type": "code",
   "execution_count": 84,
   "metadata": {
    "ExecuteTime": {
     "end_time": "2021-07-01T19:47:14.496829Z",
     "start_time": "2021-07-01T19:47:13.471079Z"
    },
    "scrolled": false
   },
   "outputs": [],
   "source": [
    "df_weapon = df_weapon.reset_index()\n",
    "df_weapon.to_csv(r'data/weapon_data.csv')"
   ]
  },
  {
   "cell_type": "code",
   "execution_count": 25,
   "metadata": {
    "ExecuteTime": {
     "end_time": "2021-07-01T18:57:37.125166Z",
     "start_time": "2021-07-01T18:57:36.929793Z"
    },
    "code_folding": [
     0
    ]
   },
   "outputs": [],
   "source": [
    "#sr_kills = df_type[kills_t][\"stat_amount\"]\n",
    "#sr_kills.name = \"Eliminations\"\n",
    "#sr_wpacc = df_type[weapAcc_t][\"stat_amount\"]\n",
    "#sr_wpacc.name = \"Weapon Accuracy\"\n",
    "#sr_type = df_type[\"hero_type\"]\n",
    "#sr_type.name = \"Hero Type\"\n",
    "#sr_dmg = df_type[damageDone_t][\"stat_amount\"]\n",
    "#sr_dmg.name = \"Damage Done\""
   ]
  },
  {
   "cell_type": "code",
   "execution_count": 26,
   "metadata": {
    "ExecuteTime": {
     "end_time": "2021-07-01T18:57:51.407349Z",
     "start_time": "2021-07-01T18:57:49.826603Z"
    },
    "code_folding": [
     0
    ]
   },
   "outputs": [],
   "source": [
    "#df_kill_wpacc = pd.merge(sr_kills, sr_wpacc, left_index=True, right_index=True)\n",
    "#df_type_kill_wpacc = pd.merge(df_kill_wpacc, sr_type, left_index=True, right_index=True)\n",
    "#df_dmg_wpacc = pd.merge(sr_dmg, sr_wpacc, left_index=True, right_index=True)\n",
    "#df_type_dmg_wpacc = pd.merge(df_dmg_wpacc, sr_type, left_index=True, right_index=True)\n",
    "#df_dmg_kill = pd.merge(sr_dmg, sr_kills, left_index=True, right_index=True)\n",
    "#df_type_dmg_kill = pd.merge(df_dmg_kill, sr_type, left_index=True, right_index=True)"
   ]
  },
  {
   "cell_type": "code",
   "execution_count": 85,
   "metadata": {
    "ExecuteTime": {
     "end_time": "2021-07-01T19:47:28.254553Z",
     "start_time": "2021-07-01T19:47:19.740535Z"
    }
   },
   "outputs": [
    {
     "data": {
      "text/plain": [
       "<seaborn.axisgrid.FacetGrid at 0x7faf3b01af10>"
      ]
     },
     "execution_count": 85,
     "metadata": {},
     "output_type": "execute_result"
    },
    {
     "data": {
      "image/png": "[encoded data removed]",
      "text/plain": [
       "<Figure size 1080x360 with 3 Axes>"
      ]
     },
     "metadata": {},
     "output_type": "display_data"
    }
   ],
   "source": [
    "sns.lmplot( data=df_weapon,\n",
    "    x=\"Weapon Accuracy\", y=\"All Damage Done\", col=\"hero_type\",\n",
    "    height=5)"
   ]
  },
  {
   "cell_type": "code",
   "execution_count": 86,
   "metadata": {
    "ExecuteTime": {
     "end_time": "2021-07-01T19:47:49.020089Z",
     "start_time": "2021-07-01T19:47:40.424638Z"
    }
   },
   "outputs": [
    {
     "data": {
      "text/plain": [
       "<seaborn.axisgrid.FacetGrid at 0x7faf3ac1e3a0>"
      ]
     },
     "execution_count": 86,
     "metadata": {},
     "output_type": "execute_result"
    },
    {
     "data": {
      "image/png": "[encoded data removed]",
      "text/plain": [
       "<Figure size 1080x360 with 3 Axes>"
      ]
     },
     "metadata": {},
     "output_type": "display_data"
    }
   ],
   "source": [
    "sns.lmplot( data=df_weapon,\n",
    "    x=\"Weapon Accuracy\", y=\"Eliminations\", col=\"hero_type\",\n",
    "    height=5)"
   ]
  },
  {
   "cell_type": "code",
   "execution_count": 87,
   "metadata": {
    "ExecuteTime": {
     "end_time": "2021-07-01T19:48:14.442843Z",
     "start_time": "2021-07-01T19:48:04.996304Z"
    }
   },
   "outputs": [
    {
     "data": {
      "text/plain": [
       "<seaborn.axisgrid.FacetGrid at 0x7faf3aac2610>"
      ]
     },
     "execution_count": 87,
     "metadata": {},
     "output_type": "execute_result"
    },
    {
     "data": {
      "image/png": "[encoded data removed]",
      "text/plain": [
       "<Figure size 430.75x360 with 1 Axes>"
      ]
     },
     "metadata": {},
     "output_type": "display_data"
    }
   ],
   "source": [
    "sns.lmplot( data=df_weapon,\n",
    "    x=\"Eliminations\", y=\"All Damage Done\", hue=\"hero_type\",\n",
    "    height=5)"
   ]
  },
  {
   "cell_type": "code",
   "execution_count": null,
   "metadata": {
    "ExecuteTime": {
     "end_time": "2021-06-23T17:01:51.300695Z",
     "start_time": "2021-06-23T17:01:51.283636Z"
    }
   },
   "outputs": [],
   "source": []
  },
  {
   "cell_type": "markdown",
   "metadata": {},
   "source": [
    "No difference in correlation between kills, elims, and weapon accuracy between hero types"
   ]
  },
  {
   "cell_type": "markdown",
   "metadata": {},
   "source": [
    " "
   ]
  },
  {
   "cell_type": "markdown",
   "metadata": {},
   "source": [
    " "
   ]
  },
  {
   "cell_type": "code",
   "execution_count": 26,
   "metadata": {
    "ExecuteTime": {
     "end_time": "2021-06-23T17:03:33.780607Z",
     "start_time": "2021-06-23T17:03:33.763558Z"
    }
   },
   "outputs": [],
   "source": [
    "asheStats = df[ashe]"
   ]
  },
  {
   "cell_type": "code",
   "execution_count": 27,
   "metadata": {
    "ExecuteTime": {
     "end_time": "2021-06-23T17:03:37.759592Z",
     "start_time": "2021-06-23T17:03:35.624816Z"
    }
   },
   "outputs": [],
   "source": [
    "_prim = df[\"stat_name\"] == \"Damage - Weapon\"\n",
    "_sec = df[\"stat_name\"] == \"Damage - Weapon Scoped\"\n",
    "_time = df[\"stat_name\"] == \"Time Played\"\n",
    "_dmg = df[\"stat_name\"] == \"All Damage Done\"\n",
    "df_ashe_stats = df[(_prim | _sec | _time | _dmg) & ashe]#[\"stat_amount\"]\n",
    "# prim_dmg = df[prim]['stat_amount'].astype(float)\n",
    "# prim_dmg.name = 'Primary Damage'\n",
    "# sec_dmg = asheStats[sec]['stat_amount'].astype(float)\n",
    "# sec_dmg.name = 'Secondary Damage'\n",
    "# test = pd.merge(prim_dmg,sec_dmg, left_index=True, right_index=True)\n",
    "# test\n",
    "#Cant use asheStats?\n",
    "#pd.pivot_table(df_ashe_stats, index=\"player\", columns=\"stat_name\", values=\"stat_amount\")\n",
    "_idx_cols = df_ashe_stats.columns.drop([\"stat_name\", \"stat_amount\"])\n",
    "_cols = \"stat_name\"\n",
    "_values = \"stat_amount\"\n",
    "df_ashe_stats = pd.pivot(df_ashe_stats, index=_idx_cols, columns=_cols, values=_values).reset_index()"
   ]
  },
  {
   "cell_type": "code",
   "execution_count": 28,
   "metadata": {
    "ExecuteTime": {
     "end_time": "2021-06-23T17:03:37.770944Z",
     "start_time": "2021-06-23T17:03:37.762147Z"
    }
   },
   "outputs": [],
   "source": [
    "_cols_to_fill = [\"All Damage Done\", \"Damage - Weapon\", \"Damage - Weapon Scoped\"]\n",
    "df_ashe_stats[_cols_to_fill] = df_ashe_stats[_cols_to_fill].fillna(0)"
   ]
  },
  {
   "cell_type": "code",
   "execution_count": 29,
   "metadata": {
    "ExecuteTime": {
     "end_time": "2021-06-23T17:03:37.869948Z",
     "start_time": "2021-06-23T17:03:37.774143Z"
    }
   },
   "outputs": [],
   "source": [
    "# compute normalized damage amounts (normalized to time)\n",
    "for i in _cols_to_fill:\n",
    "    df_ashe_stats[i + \"_normalized\"] = df_ashe_stats.apply(\n",
    "        lambda x: x[i] / x[\"Time Played\"], axis=\"columns\"\n",
    "    )"
   ]
  },
  {
   "cell_type": "code",
   "execution_count": 30,
   "metadata": {
    "ExecuteTime": {
     "end_time": "2021-06-23T17:03:38.614087Z",
     "start_time": "2021-06-23T17:03:37.872632Z"
    }
   },
   "outputs": [
    {
     "data": {
      "text/plain": [
       "<matplotlib.legend.Legend at 0x7fb68b1d31c0>"
      ]
     },
     "execution_count": 30,
     "metadata": {},
     "output_type": "execute_result"
    },
    {
     "data": {
      "image/png": "[encoded data removed]",
      "text/plain": [
       "<Figure size 576x396 with 1 Axes>"
      ]
     },
     "metadata": {},
     "output_type": "display_data"
    },
    {
     "data": {
      "image/png": "[encoded data removed]",
      "text/plain": [
       "<Figure size 576x396 with 1 Axes>"
      ]
     },
     "metadata": {},
     "output_type": "display_data"
    }
   ],
   "source": [
    "# set plots\n",
    "sns.histplot(df_ashe_stats, x=\"All Damage Done_normalized\")\n",
    "plt.title(\"Normalized Damage of Ashe\")\n",
    "\n",
    "plt.figure()\n",
    "sns.histplot(df_ashe_stats, x=\"Damage - Weapon_normalized\", label=\"Weapon Unscoped\")\n",
    "sns.histplot(df_ashe_stats, x=\"Damage - Weapon Scoped_normalized\", color=\"C1\", label=\"Weapon Scoped\")\n",
    "plt.legend()"
   ]
  },
  {
   "cell_type": "code",
   "execution_count": null,
   "metadata": {
    "ExecuteTime": {
     "end_time": "2021-06-03T18:34:18.667479Z",
     "start_time": "2021-06-03T18:34:18.663556Z"
    },
    "code_folding": []
   },
   "outputs": [],
   "source": [
    "#asheSecondary = (asheStats['stat_name'] == 'Secondary Fire Accuracy')\n",
    "#for i in range(52660):\n",
    "   # if (asheStats['stat_name'].iloc[i] == 'Secondary Fire Accuracy'):\n",
    "       # asheStats['stat_name'].iloc[i] = \"Scoped Accuracy\"\n",
    "        #shows an error but works for some reason\n",
    "        #Also I have no idea why I even made this in the first place\n"
   ]
  },
  {
   "cell_type": "markdown",
   "metadata": {
    "ExecuteTime": {
     "end_time": "2021-06-01T18:15:14.201196Z",
     "start_time": "2021-06-01T18:15:14.193672Z"
    }
   },
   "source": [
    "This is a work in progress"
   ]
  },
  {
   "cell_type": "markdown",
   "metadata": {
    "ExecuteTime": {
     "end_time": "2021-06-01T18:09:23.420263Z",
     "start_time": "2021-06-01T18:09:23.319106Z"
    }
   },
   "source": [
    " "
   ]
  },
  {
   "cell_type": "markdown",
   "metadata": {
    "ExecuteTime": {
     "end_time": "2021-06-01T18:09:30.127461Z",
     "start_time": "2021-06-01T18:09:30.109426Z"
    }
   },
   "source": [
    " "
   ]
  },
  {
   "cell_type": "markdown",
   "metadata": {},
   "source": [
    "# Map Ultimate Data\""
   ]
  },
  {
   "cell_type": "code",
   "execution_count": 11,
   "metadata": {
    "ExecuteTime": {
     "end_time": "2021-06-28T19:36:12.219818Z",
     "start_time": "2021-06-28T19:36:11.167125Z"
    }
   },
   "outputs": [
    {
     "data": {
      "text/plain": [
       "Lijiang Tower            298130\n",
       "King's Row               280663\n",
       "Ilios                    270024\n",
       "Temple of Anubis         267357\n",
       "Volskaya Industries      263838\n",
       "Oasis                    259223\n",
       "Hanamura                 248983\n",
       "Nepal                    228938\n",
       "Busan                    220971\n",
       "Watchpoint: Gibraltar    198073\n",
       "Numbani                  179979\n",
       "Dorado                   179902\n",
       "Blizzard World           179664\n",
       "Eichenwalde              176617\n",
       "Junkertown               174954\n",
       "Hollywood                166672\n",
       "Route 66                 148811\n",
       "Horizon Lunar Colony     144123\n",
       "Havana                   116681\n",
       "Rialto                   103793\n",
       "Paris                     84025\n",
       "Name: map_name, dtype: int64"
      ]
     },
     "execution_count": 11,
     "metadata": {},
     "output_type": "execute_result"
    }
   ],
   "source": [
    "df['map_name'].value_counts()"
   ]
  },
  {
   "cell_type": "markdown",
   "metadata": {},
   "source": [
    "Paris & Horizon currently out of map pool"
   ]
  },
  {
   "cell_type": "markdown",
   "metadata": {},
   "source": [
    "Brig zen lucio sombra sym widow not include"
   ]
  },
  {
   "cell_type": "markdown",
   "metadata": {},
   "source": [
    "Ultimates Used (Self-Destructs not ult used)\n",
    "ultimates =df\"stat_name\"\n",
    "Accecration Kills\n",
    "Amplification Matrix Assists\n",
    "Nano Boost Assists\n",
    "Bob Kills\n",
    "Self-Destruct Kills \n",
    "Meteor Strike Kills\n",
    "Duplicate Kills\n",
    "Dragonblade Kills\n",
    "Dragonstrike Kills\n",
    "RIP-Tire Kills\n",
    "Deadeye Kills\n",
    "Blizzard Kills\n",
    "Tank Kills\n",
    "Coalescence Kills\n",
    "Supercharger Assists\n",
    "Barrage Kills\n",
    "Death Blossom Kills\n",
    "Earthshatter Kills\n",
    "Whole Hog Kills\n",
    "Gravitic Flux Kills\n",
    "Tactical Visor Kills\n",
    "Molten Core Kills\n",
    "Pulse Bomb Kills\n",
    "Primal Rage Kills\n",
    "Minefield Kills\n",
    "Graviton Surge Kills"
   ]
  },
  {
   "cell_type": "code",
   "execution_count": 8,
   "metadata": {
    "ExecuteTime": {
     "end_time": "2021-06-29T16:19:03.649881Z",
     "start_time": "2021-06-29T16:18:44.203051Z"
    }
   },
   "outputs": [],
   "source": [
    "ultimates = (\n",
    "(df[\"stat_name\"] =='Accecration Kills')\n",
    "|(df[\"stat_name\"] =='Amplification Matrix Assists')\n",
    "|(df[\"stat_name\"] =='Nano Boost Assists')\n",
    "|(df[\"stat_name\"] =='Bob Kills')\n",
    "|(df[\"stat_name\"] =='Meteor Strike Kills')\n",
    "|(df[\"stat_name\"] =='Duplicate Kills')\n",
    "|(df[\"stat_name\"] =='Dragonblade Kills')\n",
    "|(df[\"stat_name\"] =='Dragonstrike Kills')\n",
    "|(df[\"stat_name\"] =='RIP-Tire Kills')\n",
    "|(df[\"stat_name\"] =='Deadeye Kills')\n",
    "|(df[\"stat_name\"] =='Blizzard Kills')\n",
    "|(df[\"stat_name\"] =='Tank Kills')\n",
    "|(df[\"stat_name\"] =='Coalescence Kills')\n",
    "|(df[\"stat_name\"] =='Supercharger Assists')\n",
    "|(df[\"stat_name\"] =='Barrage Kills')\n",
    "|(df[\"stat_name\"] =='Death Blossom Kills')\n",
    "|(df[\"stat_name\"] =='Earthshatter Kills')\n",
    "|(df[\"stat_name\"] =='Whole Hog Kills')\n",
    "|(df[\"stat_name\"] =='Gravitic Flux Kills')\n",
    "|(df[\"stat_name\"] =='Tactical Visor Kills')\n",
    "|(df[\"stat_name\"] =='Molten Core Kills')\n",
    "|(df[\"stat_name\"] =='Pulse Bomb Kills')\n",
    "|(df[\"stat_name\"] =='Primal Rage Kills')\n",
    "|(df[\"stat_name\"] =='Minefield Kills')\n",
    "|(df[\"stat_name\"] ==\"Graviton Surge Kills\")\n",
    "|(df[\"stat_name\"] =='Ultimates Used')\n",
    "&(df['hero'] != \"All Heroes\")\n",
    "&(df['hero'] != \"D.Va\")\n",
    "&(df['hero'] != \"Widowmaker\")\n",
    "&(df['hero'] != \"Mercy\")\n",
    "&(df['hero'] != \"Lúcio\")\n",
    "&(df['hero'] != \"Zenyatta\")\n",
    "&(df['hero'] != \"Sombra\")\n",
    "&(df['hero'] != \"Symmetra\")\n",
    "&(df['hero'] != \"Brigitte\"))\n",
    "dvaUlt = ((df[\"stat_name\"] =='Self-Destruct Kills')|(df[\"stat_name\"] =='Self-Destructs'))"
   ]
  },
  {
   "cell_type": "code",
   "execution_count": 9,
   "metadata": {
    "ExecuteTime": {
     "end_time": "2021-06-29T16:19:03.656447Z",
     "start_time": "2021-06-29T16:19:03.652448Z"
    }
   },
   "outputs": [],
   "source": [
    "def rename_ults(x):\n",
    "    if x != \"Ultimates Used\":\n",
    "        return \"Ultimate Kills\"\n",
    "    else:\n",
    "        return \"Ultimates Used\""
   ]
  },
  {
   "cell_type": "code",
   "execution_count": 10,
   "metadata": {
    "ExecuteTime": {
     "end_time": "2021-06-29T16:19:04.355915Z",
     "start_time": "2021-06-29T16:19:03.660840Z"
    }
   },
   "outputs": [
    {
     "name": "stderr",
     "output_type": "stream",
     "text": [
      "<ipython-input-10-66565f6d13e4>:2: SettingWithCopyWarning: \n",
      "A value is trying to be set on a copy of a slice from a DataFrame.\n",
      "Try using .loc[row_indexer,col_indexer] = value instead\n",
      "\n",
      "See the caveats in the documentation: https://pandas.pydata.org/pandas-docs/stable/user_guide/indexing.html#returning-a-view-versus-a-copy\n",
      "  df_ults[\"stat_name\"] = df_ults[\"stat_name\"].apply(rename_ults)\n"
     ]
    },
    {
     "data": {
      "text/html": [
       "<div>\n",
       "<style scoped>\n",
       "    .dataframe tbody tr th:only-of-type {\n",
       "        vertical-align: middle;\n",
       "    }\n",
       "\n",
       "    .dataframe tbody tr th {\n",
       "        vertical-align: top;\n",
       "    }\n",
       "\n",
       "    .dataframe thead th {\n",
       "        text-align: right;\n",
       "    }\n",
       "</style>\n",
       "<table border=\"1\" class=\"dataframe\">\n",
       "  <thead>\n",
       "    <tr style=\"text-align: right;\">\n",
       "      <th></th>\n",
       "      <th>start_time</th>\n",
       "      <th>match_id</th>\n",
       "      <th>stage</th>\n",
       "      <th>map_type</th>\n",
       "      <th>map_name</th>\n",
       "      <th>player</th>\n",
       "      <th>team</th>\n",
       "      <th>stat_name</th>\n",
       "      <th>hero</th>\n",
       "      <th>stat_amount</th>\n",
       "    </tr>\n",
       "  </thead>\n",
       "  <tbody>\n",
       "    <tr>\n",
       "      <th>36</th>\n",
       "      <td>1/11/2018 0:12</td>\n",
       "      <td>10223</td>\n",
       "      <td>Overwatch League - Stage 1</td>\n",
       "      <td>PAYLOAD</td>\n",
       "      <td>Dorado</td>\n",
       "      <td>Agilities</td>\n",
       "      <td>Los Angeles Valiant</td>\n",
       "      <td>Ultimate Kills</td>\n",
       "      <td>Genji</td>\n",
       "      <td>8.0</td>\n",
       "    </tr>\n",
       "    <tr>\n",
       "      <th>55</th>\n",
       "      <td>1/11/2018 0:12</td>\n",
       "      <td>10223</td>\n",
       "      <td>Overwatch League - Stage 1</td>\n",
       "      <td>PAYLOAD</td>\n",
       "      <td>Dorado</td>\n",
       "      <td>Agilities</td>\n",
       "      <td>Los Angeles Valiant</td>\n",
       "      <td>Ultimates Used</td>\n",
       "      <td>Genji</td>\n",
       "      <td>8.0</td>\n",
       "    </tr>\n",
       "    <tr>\n",
       "      <th>157</th>\n",
       "      <td>1/11/2018 0:12</td>\n",
       "      <td>10223</td>\n",
       "      <td>Overwatch League - Stage 1</td>\n",
       "      <td>PAYLOAD</td>\n",
       "      <td>Dorado</td>\n",
       "      <td>Fate</td>\n",
       "      <td>Los Angeles Valiant</td>\n",
       "      <td>Ultimate Kills</td>\n",
       "      <td>Winston</td>\n",
       "      <td>1.0</td>\n",
       "    </tr>\n",
       "    <tr>\n",
       "      <th>176</th>\n",
       "      <td>1/11/2018 0:12</td>\n",
       "      <td>10223</td>\n",
       "      <td>Overwatch League - Stage 1</td>\n",
       "      <td>PAYLOAD</td>\n",
       "      <td>Dorado</td>\n",
       "      <td>Fate</td>\n",
       "      <td>Los Angeles Valiant</td>\n",
       "      <td>Ultimates Used</td>\n",
       "      <td>Winston</td>\n",
       "      <td>5.0</td>\n",
       "    </tr>\n",
       "    <tr>\n",
       "      <th>276</th>\n",
       "      <td>1/11/2018 0:12</td>\n",
       "      <td>10223</td>\n",
       "      <td>Overwatch League - Stage 1</td>\n",
       "      <td>PAYLOAD</td>\n",
       "      <td>Dorado</td>\n",
       "      <td>SoOn</td>\n",
       "      <td>Los Angeles Valiant</td>\n",
       "      <td>Ultimate Kills</td>\n",
       "      <td>Tracer</td>\n",
       "      <td>3.0</td>\n",
       "    </tr>\n",
       "    <tr>\n",
       "      <th>...</th>\n",
       "      <td>...</td>\n",
       "      <td>...</td>\n",
       "      <td>...</td>\n",
       "      <td>...</td>\n",
       "      <td>...</td>\n",
       "      <td>...</td>\n",
       "      <td>...</td>\n",
       "      <td>...</td>\n",
       "      <td>...</td>\n",
       "      <td>...</td>\n",
       "    </tr>\n",
       "    <tr>\n",
       "      <th>284792</th>\n",
       "      <td>2021-05-23 22:42:27</td>\n",
       "      <td>37273</td>\n",
       "      <td>OWL 2021</td>\n",
       "      <td>ASSAULT</td>\n",
       "      <td>Temple of Anubis</td>\n",
       "      <td>Danteh</td>\n",
       "      <td>Houston Outlaws</td>\n",
       "      <td>Ultimates Used</td>\n",
       "      <td>Echo</td>\n",
       "      <td>2.0</td>\n",
       "    </tr>\n",
       "    <tr>\n",
       "      <th>284839</th>\n",
       "      <td>2021-05-23 22:42:27</td>\n",
       "      <td>37273</td>\n",
       "      <td>OWL 2021</td>\n",
       "      <td>ASSAULT</td>\n",
       "      <td>Temple of Anubis</td>\n",
       "      <td>Jake</td>\n",
       "      <td>Houston Outlaws</td>\n",
       "      <td>Ultimate Kills</td>\n",
       "      <td>Junkrat</td>\n",
       "      <td>2.0</td>\n",
       "    </tr>\n",
       "    <tr>\n",
       "      <th>284850</th>\n",
       "      <td>2021-05-23 22:42:27</td>\n",
       "      <td>37273</td>\n",
       "      <td>OWL 2021</td>\n",
       "      <td>ASSAULT</td>\n",
       "      <td>Temple of Anubis</td>\n",
       "      <td>Jake</td>\n",
       "      <td>Houston Outlaws</td>\n",
       "      <td>Ultimates Used</td>\n",
       "      <td>Junkrat</td>\n",
       "      <td>1.0</td>\n",
       "    </tr>\n",
       "    <tr>\n",
       "      <th>285051</th>\n",
       "      <td>2021-05-23 22:42:27</td>\n",
       "      <td>37273</td>\n",
       "      <td>OWL 2021</td>\n",
       "      <td>ASSAULT</td>\n",
       "      <td>Temple of Anubis</td>\n",
       "      <td>Piggy</td>\n",
       "      <td>Houston Outlaws</td>\n",
       "      <td>Ultimate Kills</td>\n",
       "      <td>Sigma</td>\n",
       "      <td>1.0</td>\n",
       "    </tr>\n",
       "    <tr>\n",
       "      <th>285067</th>\n",
       "      <td>2021-05-23 22:42:27</td>\n",
       "      <td>37273</td>\n",
       "      <td>OWL 2021</td>\n",
       "      <td>ASSAULT</td>\n",
       "      <td>Temple of Anubis</td>\n",
       "      <td>Piggy</td>\n",
       "      <td>Houston Outlaws</td>\n",
       "      <td>Ultimates Used</td>\n",
       "      <td>Sigma</td>\n",
       "      <td>2.0</td>\n",
       "    </tr>\n",
       "  </tbody>\n",
       "</table>\n",
       "<p>67426 rows × 10 columns</p>\n",
       "</div>"
      ],
      "text/plain": [
       "                 start_time  match_id                       stage map_type  \\\n",
       "36           1/11/2018 0:12     10223  Overwatch League - Stage 1  PAYLOAD   \n",
       "55           1/11/2018 0:12     10223  Overwatch League - Stage 1  PAYLOAD   \n",
       "157          1/11/2018 0:12     10223  Overwatch League - Stage 1  PAYLOAD   \n",
       "176          1/11/2018 0:12     10223  Overwatch League - Stage 1  PAYLOAD   \n",
       "276          1/11/2018 0:12     10223  Overwatch League - Stage 1  PAYLOAD   \n",
       "...                     ...       ...                         ...      ...   \n",
       "284792  2021-05-23 22:42:27     37273                    OWL 2021  ASSAULT   \n",
       "284839  2021-05-23 22:42:27     37273                    OWL 2021  ASSAULT   \n",
       "284850  2021-05-23 22:42:27     37273                    OWL 2021  ASSAULT   \n",
       "285051  2021-05-23 22:42:27     37273                    OWL 2021  ASSAULT   \n",
       "285067  2021-05-23 22:42:27     37273                    OWL 2021  ASSAULT   \n",
       "\n",
       "                map_name     player                 team       stat_name  \\\n",
       "36                Dorado  Agilities  Los Angeles Valiant  Ultimate Kills   \n",
       "55                Dorado  Agilities  Los Angeles Valiant  Ultimates Used   \n",
       "157               Dorado       Fate  Los Angeles Valiant  Ultimate Kills   \n",
       "176               Dorado       Fate  Los Angeles Valiant  Ultimates Used   \n",
       "276               Dorado       SoOn  Los Angeles Valiant  Ultimate Kills   \n",
       "...                  ...        ...                  ...             ...   \n",
       "284792  Temple of Anubis     Danteh      Houston Outlaws  Ultimates Used   \n",
       "284839  Temple of Anubis       Jake      Houston Outlaws  Ultimate Kills   \n",
       "284850  Temple of Anubis       Jake      Houston Outlaws  Ultimates Used   \n",
       "285051  Temple of Anubis      Piggy      Houston Outlaws  Ultimate Kills   \n",
       "285067  Temple of Anubis      Piggy      Houston Outlaws  Ultimates Used   \n",
       "\n",
       "           hero  stat_amount  \n",
       "36        Genji          8.0  \n",
       "55        Genji          8.0  \n",
       "157     Winston          1.0  \n",
       "176     Winston          5.0  \n",
       "276      Tracer          3.0  \n",
       "...         ...          ...  \n",
       "284792     Echo          2.0  \n",
       "284839  Junkrat          2.0  \n",
       "284850  Junkrat          1.0  \n",
       "285051    Sigma          1.0  \n",
       "285067    Sigma          2.0  \n",
       "\n",
       "[67426 rows x 10 columns]"
      ]
     },
     "execution_count": 10,
     "metadata": {},
     "output_type": "execute_result"
    }
   ],
   "source": [
    "df_ults = df[ultimates]\n",
    "df_ults[\"stat_name\"] = df_ults[\"stat_name\"].apply(rename_ults)\n",
    "df_ults"
   ]
  },
  {
   "cell_type": "code",
   "execution_count": 11,
   "metadata": {
    "ExecuteTime": {
     "end_time": "2021-06-29T16:19:04.449545Z",
     "start_time": "2021-06-29T16:19:04.359952Z"
    }
   },
   "outputs": [],
   "source": [
    "df_ults_pivot = pd.pivot_table(df_ults,values=('stat_amount'),\n",
    "                    index=['map_name','hero'],columns=['stat_name'], aggfunc=np.sum)\n",
    "df_ults_pivot[\"Kills per Ult\"] = df_ults_pivot.apply(\n",
    "        lambda x: x[\"Ultimate Kills\"] / x[\"Ultimates Used\"], axis=\"columns\")\n",
    "df_ults_pivot.to_csv(r'data/ults_data.csv')"
   ]
  },
  {
   "cell_type": "code",
   "execution_count": 24,
   "metadata": {
    "ExecuteTime": {
     "end_time": "2021-06-29T17:04:46.761200Z",
     "start_time": "2021-06-29T17:04:46.711496Z"
    }
   },
   "outputs": [
    {
     "data": {
      "text/html": [
       "<div>\n",
       "<style scoped>\n",
       "    .dataframe tbody tr th:only-of-type {\n",
       "        vertical-align: middle;\n",
       "    }\n",
       "\n",
       "    .dataframe tbody tr th {\n",
       "        vertical-align: top;\n",
       "    }\n",
       "\n",
       "    .dataframe thead th {\n",
       "        text-align: right;\n",
       "    }\n",
       "</style>\n",
       "<table border=\"1\" class=\"dataframe\">\n",
       "  <thead>\n",
       "    <tr style=\"text-align: right;\">\n",
       "      <th></th>\n",
       "      <th>start_time</th>\n",
       "      <th>match_id</th>\n",
       "      <th>stage</th>\n",
       "      <th>map_type</th>\n",
       "      <th>map_name</th>\n",
       "      <th>player</th>\n",
       "      <th>team</th>\n",
       "      <th>stat_name</th>\n",
       "      <th>hero</th>\n",
       "      <th>stat_amount</th>\n",
       "    </tr>\n",
       "  </thead>\n",
       "  <tbody>\n",
       "    <tr>\n",
       "      <th>344975</th>\n",
       "      <td>7/12/2019 1:06</td>\n",
       "      <td>20321</td>\n",
       "      <td>Overwatch League Stage 3 Title Matches</td>\n",
       "      <td>CONTROL</td>\n",
       "      <td>Ilios</td>\n",
       "      <td>LiNkzr</td>\n",
       "      <td>Houston Outlaws</td>\n",
       "      <td>Ultimates Used</td>\n",
       "      <td>Mei</td>\n",
       "      <td>1.0</td>\n",
       "    </tr>\n",
       "    <tr>\n",
       "      <th>14875</th>\n",
       "      <td>7/26/2019 3:54</td>\n",
       "      <td>21340</td>\n",
       "      <td>Overwatch League Stage 4</td>\n",
       "      <td>CONTROL</td>\n",
       "      <td>Ilios</td>\n",
       "      <td>nero</td>\n",
       "      <td>Guangzhou Charge</td>\n",
       "      <td>Ultimate Kills</td>\n",
       "      <td>Mei</td>\n",
       "      <td>6.0</td>\n",
       "    </tr>\n",
       "    <tr>\n",
       "      <th>14916</th>\n",
       "      <td>7/26/2019 3:54</td>\n",
       "      <td>21340</td>\n",
       "      <td>Overwatch League Stage 4</td>\n",
       "      <td>CONTROL</td>\n",
       "      <td>Ilios</td>\n",
       "      <td>nero</td>\n",
       "      <td>Guangzhou Charge</td>\n",
       "      <td>Ultimates Used</td>\n",
       "      <td>Mei</td>\n",
       "      <td>4.0</td>\n",
       "    </tr>\n",
       "    <tr>\n",
       "      <th>15403</th>\n",
       "      <td>7/26/2019 3:54</td>\n",
       "      <td>21340</td>\n",
       "      <td>Overwatch League Stage 4</td>\n",
       "      <td>CONTROL</td>\n",
       "      <td>Ilios</td>\n",
       "      <td>eqo</td>\n",
       "      <td>Philadelphia Fusion</td>\n",
       "      <td>Ultimate Kills</td>\n",
       "      <td>Mei</td>\n",
       "      <td>1.0</td>\n",
       "    </tr>\n",
       "    <tr>\n",
       "      <th>15438</th>\n",
       "      <td>7/26/2019 3:54</td>\n",
       "      <td>21340</td>\n",
       "      <td>Overwatch League Stage 4</td>\n",
       "      <td>CONTROL</td>\n",
       "      <td>Ilios</td>\n",
       "      <td>eqo</td>\n",
       "      <td>Philadelphia Fusion</td>\n",
       "      <td>Ultimates Used</td>\n",
       "      <td>Mei</td>\n",
       "      <td>2.0</td>\n",
       "    </tr>\n",
       "    <tr>\n",
       "      <th>...</th>\n",
       "      <td>...</td>\n",
       "      <td>...</td>\n",
       "      <td>...</td>\n",
       "      <td>...</td>\n",
       "      <td>...</td>\n",
       "      <td>...</td>\n",
       "      <td>...</td>\n",
       "      <td>...</td>\n",
       "      <td>...</td>\n",
       "      <td>...</td>\n",
       "    </tr>\n",
       "    <tr>\n",
       "      <th>642398</th>\n",
       "      <td>6/27/2020 9:48</td>\n",
       "      <td>34608</td>\n",
       "      <td>OWL 2020 Regular Season</td>\n",
       "      <td>CONTROL</td>\n",
       "      <td>Ilios</td>\n",
       "      <td>Profit</td>\n",
       "      <td>Seoul Dynasty</td>\n",
       "      <td>Ultimate Kills</td>\n",
       "      <td>Mei</td>\n",
       "      <td>1.0</td>\n",
       "    </tr>\n",
       "    <tr>\n",
       "      <th>642432</th>\n",
       "      <td>6/27/2020 9:48</td>\n",
       "      <td>34608</td>\n",
       "      <td>OWL 2020 Regular Season</td>\n",
       "      <td>CONTROL</td>\n",
       "      <td>Ilios</td>\n",
       "      <td>Profit</td>\n",
       "      <td>Seoul Dynasty</td>\n",
       "      <td>Ultimates Used</td>\n",
       "      <td>Mei</td>\n",
       "      <td>1.0</td>\n",
       "    </tr>\n",
       "    <tr>\n",
       "      <th>30167</th>\n",
       "      <td>2021-04-17 21:03:15</td>\n",
       "      <td>37231</td>\n",
       "      <td>OWL 2021</td>\n",
       "      <td>CONTROL</td>\n",
       "      <td>Ilios</td>\n",
       "      <td>PELICAN</td>\n",
       "      <td>Atlanta Reign</td>\n",
       "      <td>Ultimates Used</td>\n",
       "      <td>Mei</td>\n",
       "      <td>1.0</td>\n",
       "    </tr>\n",
       "    <tr>\n",
       "      <th>133260</th>\n",
       "      <td>2021-04-30 19:05:22</td>\n",
       "      <td>37216</td>\n",
       "      <td>OWL 2021</td>\n",
       "      <td>CONTROL</td>\n",
       "      <td>Ilios</td>\n",
       "      <td>blase</td>\n",
       "      <td>London Spitfire</td>\n",
       "      <td>Ultimate Kills</td>\n",
       "      <td>Mei</td>\n",
       "      <td>2.0</td>\n",
       "    </tr>\n",
       "    <tr>\n",
       "      <th>133299</th>\n",
       "      <td>2021-04-30 19:05:22</td>\n",
       "      <td>37216</td>\n",
       "      <td>OWL 2021</td>\n",
       "      <td>CONTROL</td>\n",
       "      <td>Ilios</td>\n",
       "      <td>blase</td>\n",
       "      <td>London Spitfire</td>\n",
       "      <td>Ultimates Used</td>\n",
       "      <td>Mei</td>\n",
       "      <td>4.0</td>\n",
       "    </tr>\n",
       "  </tbody>\n",
       "</table>\n",
       "<p>137 rows × 10 columns</p>\n",
       "</div>"
      ],
      "text/plain": [
       "                 start_time  match_id                                   stage  \\\n",
       "344975       7/12/2019 1:06     20321  Overwatch League Stage 3 Title Matches   \n",
       "14875        7/26/2019 3:54     21340                Overwatch League Stage 4   \n",
       "14916        7/26/2019 3:54     21340                Overwatch League Stage 4   \n",
       "15403        7/26/2019 3:54     21340                Overwatch League Stage 4   \n",
       "15438        7/26/2019 3:54     21340                Overwatch League Stage 4   \n",
       "...                     ...       ...                                     ...   \n",
       "642398       6/27/2020 9:48     34608                 OWL 2020 Regular Season   \n",
       "642432       6/27/2020 9:48     34608                 OWL 2020 Regular Season   \n",
       "30167   2021-04-17 21:03:15     37231                                OWL 2021   \n",
       "133260  2021-04-30 19:05:22     37216                                OWL 2021   \n",
       "133299  2021-04-30 19:05:22     37216                                OWL 2021   \n",
       "\n",
       "       map_type map_name   player                 team       stat_name hero  \\\n",
       "344975  CONTROL    Ilios   LiNkzr      Houston Outlaws  Ultimates Used  Mei   \n",
       "14875   CONTROL    Ilios     nero     Guangzhou Charge  Ultimate Kills  Mei   \n",
       "14916   CONTROL    Ilios     nero     Guangzhou Charge  Ultimates Used  Mei   \n",
       "15403   CONTROL    Ilios      eqo  Philadelphia Fusion  Ultimate Kills  Mei   \n",
       "15438   CONTROL    Ilios      eqo  Philadelphia Fusion  Ultimates Used  Mei   \n",
       "...         ...      ...      ...                  ...             ...  ...   \n",
       "642398  CONTROL    Ilios   Profit        Seoul Dynasty  Ultimate Kills  Mei   \n",
       "642432  CONTROL    Ilios   Profit        Seoul Dynasty  Ultimates Used  Mei   \n",
       "30167   CONTROL    Ilios  PELICAN        Atlanta Reign  Ultimates Used  Mei   \n",
       "133260  CONTROL    Ilios    blase      London Spitfire  Ultimate Kills  Mei   \n",
       "133299  CONTROL    Ilios    blase      London Spitfire  Ultimates Used  Mei   \n",
       "\n",
       "        stat_amount  \n",
       "344975          1.0  \n",
       "14875           6.0  \n",
       "14916           4.0  \n",
       "15403           1.0  \n",
       "15438           2.0  \n",
       "...             ...  \n",
       "642398          1.0  \n",
       "642432          1.0  \n",
       "30167           1.0  \n",
       "133260          2.0  \n",
       "133299          4.0  \n",
       "\n",
       "[137 rows x 10 columns]"
      ]
     },
     "execution_count": 24,
     "metadata": {},
     "output_type": "execute_result"
    }
   ],
   "source": [
    "df_ults[(df_ults[\"map_name\"] == \"Ilios\" )&(df_ults[\"hero\"] == \"Mei\" )]"
   ]
  },
  {
   "cell_type": "code",
   "execution_count": null,
   "metadata": {},
   "outputs": [],
   "source": []
  }
 ],
 "metadata": {
  "kernelspec": {
   "display_name": "Python 3",
   "language": "python",
   "name": "python3"
  },
  "language_info": {
   "codemirror_mode": {
    "name": "ipython",
    "version": 3
   },
   "file_extension": ".py",
   "mimetype": "text/x-python",
   "name": "python",
   "nbconvert_exporter": "python",
   "pygments_lexer": "ipython3",
   "version": "3.8.5"
  },
  "toc": {
   "base_numbering": 1,
   "nav_menu": {},
   "number_sections": false,
   "sideBar": true,
   "skip_h1_title": false,
   "title_cell": "Table of Contents",
   "title_sidebar": "Contents",
   "toc_cell": false,
   "toc_position": {},
   "toc_section_display": true,
   "toc_window_display": false
  }
 },
 "nbformat": 4,
 "nbformat_minor": 4
}
