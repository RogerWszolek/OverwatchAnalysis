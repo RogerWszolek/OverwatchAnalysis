{
 "cells": [
  {
   "cell_type": "code",
   "execution_count": 2,
   "metadata": {
    "ExecuteTime": {
     "end_time": "2021-05-27T21:57:31.767223Z",
     "start_time": "2021-05-27T21:57:04.079718Z"
    }
   },
   "outputs": [
    {
     "name": "stdout",
     "output_type": "stream",
     "text": [
      "             start_time  match_id                       stage map_type  \\\n",
      "15980   1/11/2018 23:53     10227  Overwatch League - Stage 1  PAYLOAD   \n",
      "15981   1/11/2018 23:53     10227  Overwatch League - Stage 1  PAYLOAD   \n",
      "15982   1/11/2018 23:53     10227  Overwatch League - Stage 1  PAYLOAD   \n",
      "15983   1/11/2018 23:53     10227  Overwatch League - Stage 1  PAYLOAD   \n",
      "15984   1/11/2018 23:53     10227  Overwatch League - Stage 1  PAYLOAD   \n",
      "...                 ...       ...                         ...      ...   \n",
      "301907   8/18/2019 1:50     21459    Overwatch League Stage 4  CONTROL   \n",
      "301908   8/18/2019 1:50     21459    Overwatch League Stage 4  CONTROL   \n",
      "301909   8/18/2019 1:50     21459    Overwatch League Stage 4  CONTROL   \n",
      "301910   8/18/2019 1:50     21459    Overwatch League Stage 4  CONTROL   \n",
      "301911   8/18/2019 1:50     21459    Overwatch League Stage 4  CONTROL   \n",
      "\n",
      "             map_name  player             team                      stat_name  \\\n",
      "15980          Dorado  LiNkzr  Houston Outlaws                All Damage Done   \n",
      "15981          Dorado  LiNkzr  Houston Outlaws                        Assists   \n",
      "15982          Dorado  LiNkzr  Houston Outlaws            Barrier Damage Done   \n",
      "15983          Dorado  LiNkzr  Houston Outlaws           Damage - Quick Melee   \n",
      "15984          Dorado  LiNkzr  Houston Outlaws                         Deaths   \n",
      "...               ...     ...              ...                            ...   \n",
      "301907  Lijiang Tower  LiNkzr  Houston Outlaws          Time Holding Ultimate   \n",
      "301908  Lijiang Tower  LiNkzr  Houston Outlaws                    Time Played   \n",
      "301909  Lijiang Tower  LiNkzr  Houston Outlaws  Ultimates Earned - Fractional   \n",
      "301910  Lijiang Tower  LiNkzr  Houston Outlaws                 Ultimates Used   \n",
      "301911  Lijiang Tower  LiNkzr  Houston Outlaws                Weapon Accuracy   \n",
      "\n",
      "              hero   stat_amount pelstart_time  \n",
      "15980   All Heroes  12690.121510           NaN  \n",
      "15981   All Heroes     12.000000           NaN  \n",
      "15982   All Heroes   1717.419762           NaN  \n",
      "15983   All Heroes     30.000000           NaN  \n",
      "15984   All Heroes     13.000000           NaN  \n",
      "...            ...           ...           ...  \n",
      "301907  Widowmaker      0.497000           NaN  \n",
      "301908  Widowmaker    131.406081           NaN  \n",
      "301909  Widowmaker      1.179590           NaN  \n",
      "301910  Widowmaker      1.000000           NaN  \n",
      "301911  Widowmaker      0.535354           NaN  \n",
      "\n",
      "[26009 rows x 11 columns]\n"
     ]
    }
   ],
   "source": [
    "import pandas as pd\n",
    "\n",
    "files = ['stage_2','stage_3','stage_4','playoffs']\n",
    "\n",
    "df = pd.read_csv('data/phs_2018_stage_1.csv')\n",
    "for f in files:\n",
    "    df = df.append(pd.read_csv('data/phs_2018_' + f + '.csv'))\n",
    "\n",
    "files.insert(0, 'stage_1') \n",
    "for f in files:\n",
    "    df = df.append(pd.read_csv('data/phs_2019_' + f + '.csv'))\n",
    "\n",
    "# print(df.info)\n",
    "# match = df['match_id']\n",
    "# print(match.mean())\n",
    "# print(df['match_id'].value_counts().head(20))\n",
    "LiNkzrStats = df[df['player'] == \"LiNkzr\"]\n",
    "print(LiNkzrStats)\n",
    "# LiNkzrAllDamage = (LiNkzrStats[LiNkzrStats['stat_name']] == 'All Damage Done'\n",
    "# print(LiNkzrAllDamage)"
   ]
  },
  {
   "cell_type": "code",
   "execution_count": 44,
   "metadata": {
    "ExecuteTime": {
     "end_time": "2021-05-27T22:17:42.858195Z",
     "start_time": "2021-05-27T22:17:41.455242Z"
    }
   },
   "outputs": [],
   "source": [
    "linkzr = df['player'] == \"LiNkzr\"\n",
    "dmg_done = df[\"stat_name\"] == \"All Damage Done\"\n",
    "elims = df[\"stat_name\"] == 'Eliminations'\n",
    "all_heros = df[\"hero\"] == \"All Heroes\""
   ]
  },
  {
   "cell_type": "code",
   "execution_count": 45,
   "metadata": {
    "ExecuteTime": {
     "end_time": "2021-05-27T22:17:43.582603Z",
     "start_time": "2021-05-27T22:17:43.566111Z"
    }
   },
   "outputs": [],
   "source": [
    "LiNkzrdmg = df[dmg_done & all_heros & linkzr]\n",
    "LiNkzrdmg\n",
    "LiNkzrelim = df[elims & all_heros & linkzr]"
   ]
  },
  {
   "cell_type": "code",
   "execution_count": 46,
   "metadata": {
    "ExecuteTime": {
     "end_time": "2021-05-27T22:17:44.811662Z",
     "start_time": "2021-05-27T22:17:44.804171Z"
    }
   },
   "outputs": [
    {
     "data": {
      "text/plain": [
       "2922849.029856"
      ]
     },
     "execution_count": 46,
     "metadata": {},
     "output_type": "execute_result"
    }
   ],
   "source": [
    "LiNkzrdmg['stat_amount'].sum()"
   ]
  },
  {
   "cell_type": "code",
   "execution_count": 50,
   "metadata": {
    "ExecuteTime": {
     "end_time": "2021-05-27T22:20:07.517784Z",
     "start_time": "2021-05-27T22:20:07.511556Z"
    }
   },
   "outputs": [
    {
     "data": {
      "text/plain": [
       "4774.0"
      ]
     },
     "execution_count": 50,
     "metadata": {},
     "output_type": "execute_result"
    }
   ],
   "source": [
    "LiNkzrelim['stat_amount'].sum()\n"
   ]
  },
  {
   "cell_type": "code",
   "execution_count": 52,
   "metadata": {
    "ExecuteTime": {
     "end_time": "2021-05-27T22:20:13.036905Z",
     "start_time": "2021-05-27T22:20:13.021269Z"
    }
   },
   "outputs": [
    {
     "name": "stdout",
     "output_type": "stream",
     "text": [
      "<class 'pandas.core.frame.DataFrame'>\n",
      "Int64Index: 238 entries, 15985 to 301783\n",
      "Data columns (total 11 columns):\n",
      " #   Column         Non-Null Count  Dtype  \n",
      "---  ------         --------------  -----  \n",
      " 0   start_time     227 non-null    object \n",
      " 1   match_id       238 non-null    int64  \n",
      " 2   stage          238 non-null    object \n",
      " 3   map_type       238 non-null    object \n",
      " 4   map_name       238 non-null    object \n",
      " 5   player         238 non-null    object \n",
      " 6   team           238 non-null    object \n",
      " 7   stat_name      238 non-null    object \n",
      " 8   hero           238 non-null    object \n",
      " 9   stat_amount    238 non-null    float64\n",
      " 10  pelstart_time  11 non-null     object \n",
      "dtypes: float64(1), int64(1), object(9)\n",
      "memory usage: 22.3+ KB\n"
     ]
    }
   ],
   "source": [
    "LiNkzrelim.info()"
   ]
  },
  {
   "cell_type": "code",
   "execution_count": null,
   "metadata": {},
   "outputs": [],
   "source": []
  }
 ],
 "metadata": {
  "kernelspec": {
   "display_name": "Python 3",
   "language": "python",
   "name": "python3"
  },
  "language_info": {
   "codemirror_mode": {
    "name": "ipython",
    "version": 3
   },
   "file_extension": ".py",
   "mimetype": "text/x-python",
   "name": "python",
   "nbconvert_exporter": "python",
   "pygments_lexer": "ipython3",
   "version": "3.8.5"
  },
  "toc": {
   "base_numbering": 1,
   "nav_menu": {},
   "number_sections": false,
   "sideBar": true,
   "skip_h1_title": false,
   "title_cell": "Table of Contents",
   "title_sidebar": "Contents",
   "toc_cell": false,
   "toc_position": {},
   "toc_section_display": true,
   "toc_window_display": false
  }
 },
 "nbformat": 4,
 "nbformat_minor": 4
}
